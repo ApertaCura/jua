{
 "cells": [
  {
   "cell_type": "code",
   "execution_count": 1,
   "id": "cdba10aa",
   "metadata": {
    "execution": {
     "iopub.execute_input": "2023-12-16T14:48:04.684335Z",
     "iopub.status.busy": "2023-12-16T14:48:04.683423Z",
     "iopub.status.idle": "2023-12-16T14:48:07.500006Z",
     "shell.execute_reply": "2023-12-16T14:48:07.498334Z"
    },
    "papermill": {
     "duration": 2.841253,
     "end_time": "2023-12-16T14:48:07.503210",
     "exception": false,
     "start_time": "2023-12-16T14:48:04.661957",
     "status": "completed"
    },
    "tags": []
   },
   "outputs": [],
   "source": [
    "import numpy as np\n",
    "import pandas as pd\n",
    "import matplotlib.pyplot as plt\n",
    "import seaborn as sns\n",
    "\n",
    "from sklearn.metrics import r2_score,accuracy_score,mean_squared_error,mean_absolute_error\n",
    "from sklearn.model_selection import train_test_split,GridSearchCV,RandomizedSearchCV\n",
    "from sklearn.linear_model import LinearRegression,SGDRegressor\n",
    "\n",
    "from sklearn.preprocessing import StandardScaler,MinMaxScaler\n"
   ]
  },
  {
   "cell_type": "markdown",
   "id": "73b078d9",
   "metadata": {
    "papermill": {
     "duration": 0.018852,
     "end_time": "2023-12-16T14:48:07.540560",
     "exception": false,
     "start_time": "2023-12-16T14:48:07.521708",
     "status": "completed"
    },
    "tags": []
   },
   "source": [
    "## Load The Data"
   ]
  },
  {
   "cell_type": "code",
   "execution_count": 2,
   "id": "df2d243a",
   "metadata": {
    "execution": {
     "iopub.execute_input": "2023-12-16T14:48:07.580329Z",
     "iopub.status.busy": "2023-12-16T14:48:07.579139Z",
     "iopub.status.idle": "2023-12-16T14:48:07.641815Z",
     "shell.execute_reply": "2023-12-16T14:48:07.640084Z"
    },
    "papermill": {
     "duration": 0.085193,
     "end_time": "2023-12-16T14:48:07.644657",
     "exception": false,
     "start_time": "2023-12-16T14:48:07.559464",
     "status": "completed"
    },
    "tags": []
   },
   "outputs": [
    {
     "data": {
      "text/html": [
       "<div>\n",
       "<style scoped>\n",
       "    .dataframe tbody tr th:only-of-type {\n",
       "        vertical-align: middle;\n",
       "    }\n",
       "\n",
       "    .dataframe tbody tr th {\n",
       "        vertical-align: top;\n",
       "    }\n",
       "\n",
       "    .dataframe thead th {\n",
       "        text-align: right;\n",
       "    }\n",
       "</style>\n",
       "<table border=\"1\" class=\"dataframe\">\n",
       "  <thead>\n",
       "    <tr style=\"text-align: right;\">\n",
       "      <th></th>\n",
       "      <th>age</th>\n",
       "      <th>sex</th>\n",
       "      <th>bmi</th>\n",
       "      <th>children</th>\n",
       "      <th>smoker</th>\n",
       "      <th>region</th>\n",
       "      <th>charges</th>\n",
       "    </tr>\n",
       "  </thead>\n",
       "  <tbody>\n",
       "    <tr>\n",
       "      <th>0</th>\n",
       "      <td>19</td>\n",
       "      <td>female</td>\n",
       "      <td>27.900</td>\n",
       "      <td>0</td>\n",
       "      <td>yes</td>\n",
       "      <td>southwest</td>\n",
       "      <td>16884.92400</td>\n",
       "    </tr>\n",
       "    <tr>\n",
       "      <th>1</th>\n",
       "      <td>18</td>\n",
       "      <td>male</td>\n",
       "      <td>33.770</td>\n",
       "      <td>1</td>\n",
       "      <td>no</td>\n",
       "      <td>southeast</td>\n",
       "      <td>1725.55230</td>\n",
       "    </tr>\n",
       "    <tr>\n",
       "      <th>2</th>\n",
       "      <td>28</td>\n",
       "      <td>male</td>\n",
       "      <td>33.000</td>\n",
       "      <td>3</td>\n",
       "      <td>no</td>\n",
       "      <td>southeast</td>\n",
       "      <td>4449.46200</td>\n",
       "    </tr>\n",
       "    <tr>\n",
       "      <th>3</th>\n",
       "      <td>33</td>\n",
       "      <td>male</td>\n",
       "      <td>22.705</td>\n",
       "      <td>0</td>\n",
       "      <td>no</td>\n",
       "      <td>northwest</td>\n",
       "      <td>21984.47061</td>\n",
       "    </tr>\n",
       "    <tr>\n",
       "      <th>4</th>\n",
       "      <td>32</td>\n",
       "      <td>male</td>\n",
       "      <td>28.880</td>\n",
       "      <td>0</td>\n",
       "      <td>no</td>\n",
       "      <td>northwest</td>\n",
       "      <td>3866.85520</td>\n",
       "    </tr>\n",
       "  </tbody>\n",
       "</table>\n",
       "</div>"
      ],
      "text/plain": [
       "   age     sex     bmi  children smoker     region      charges\n",
       "0   19  female  27.900         0    yes  southwest  16884.92400\n",
       "1   18    male  33.770         1     no  southeast   1725.55230\n",
       "2   28    male  33.000         3     no  southeast   4449.46200\n",
       "3   33    male  22.705         0     no  northwest  21984.47061\n",
       "4   32    male  28.880         0     no  northwest   3866.85520"
      ]
     },
     "execution_count": 2,
     "metadata": {},
     "output_type": "execute_result"
    }
   ],
   "source": [
    "df = pd.read_csv(\"/kaggle/input/medical-insurance-price-prediction/Medical_insurance.csv\")\n",
    "df.head()"
   ]
  },
  {
   "cell_type": "code",
   "execution_count": 3,
   "id": "b2109afe",
   "metadata": {
    "execution": {
     "iopub.execute_input": "2023-12-16T14:48:07.683538Z",
     "iopub.status.busy": "2023-12-16T14:48:07.682749Z",
     "iopub.status.idle": "2023-12-16T14:48:07.717240Z",
     "shell.execute_reply": "2023-12-16T14:48:07.715169Z"
    },
    "papermill": {
     "duration": 0.057796,
     "end_time": "2023-12-16T14:48:07.720506",
     "exception": false,
     "start_time": "2023-12-16T14:48:07.662710",
     "status": "completed"
    },
    "tags": []
   },
   "outputs": [
    {
     "name": "stdout",
     "output_type": "stream",
     "text": [
      "<class 'pandas.core.frame.DataFrame'>\n",
      "RangeIndex: 2772 entries, 0 to 2771\n",
      "Data columns (total 7 columns):\n",
      " #   Column    Non-Null Count  Dtype  \n",
      "---  ------    --------------  -----  \n",
      " 0   age       2772 non-null   int64  \n",
      " 1   sex       2772 non-null   object \n",
      " 2   bmi       2772 non-null   float64\n",
      " 3   children  2772 non-null   int64  \n",
      " 4   smoker    2772 non-null   object \n",
      " 5   region    2772 non-null   object \n",
      " 6   charges   2772 non-null   float64\n",
      "dtypes: float64(2), int64(2), object(3)\n",
      "memory usage: 151.7+ KB\n"
     ]
    }
   ],
   "source": [
    "df.info()"
   ]
  },
  {
   "cell_type": "code",
   "execution_count": 4,
   "id": "95399272",
   "metadata": {
    "execution": {
     "iopub.execute_input": "2023-12-16T14:48:07.761174Z",
     "iopub.status.busy": "2023-12-16T14:48:07.760622Z",
     "iopub.status.idle": "2023-12-16T14:48:07.773545Z",
     "shell.execute_reply": "2023-12-16T14:48:07.771845Z"
    },
    "papermill": {
     "duration": 0.036334,
     "end_time": "2023-12-16T14:48:07.775990",
     "exception": false,
     "start_time": "2023-12-16T14:48:07.739656",
     "status": "completed"
    },
    "tags": []
   },
   "outputs": [
    {
     "data": {
      "text/plain": [
       "age         0\n",
       "sex         0\n",
       "bmi         0\n",
       "children    0\n",
       "smoker      0\n",
       "region      0\n",
       "charges     0\n",
       "dtype: int64"
      ]
     },
     "execution_count": 4,
     "metadata": {},
     "output_type": "execute_result"
    }
   ],
   "source": [
    "df.isna().sum()"
   ]
  },
  {
   "cell_type": "code",
   "execution_count": 5,
   "id": "5a15bfc9",
   "metadata": {
    "execution": {
     "iopub.execute_input": "2023-12-16T14:48:07.814604Z",
     "iopub.status.busy": "2023-12-16T14:48:07.814161Z",
     "iopub.status.idle": "2023-12-16T14:48:07.831229Z",
     "shell.execute_reply": "2023-12-16T14:48:07.829901Z"
    },
    "papermill": {
     "duration": 0.039701,
     "end_time": "2023-12-16T14:48:07.833766",
     "exception": false,
     "start_time": "2023-12-16T14:48:07.794065",
     "status": "completed"
    },
    "tags": []
   },
   "outputs": [
    {
     "data": {
      "text/plain": [
       "count    2772.000000\n",
       "mean       39.109668\n",
       "std        14.081459\n",
       "min        18.000000\n",
       "25%        26.000000\n",
       "50%        39.000000\n",
       "75%        51.000000\n",
       "max        64.000000\n",
       "Name: age, dtype: float64"
      ]
     },
     "execution_count": 5,
     "metadata": {},
     "output_type": "execute_result"
    }
   ],
   "source": [
    "df['age'].describe()"
   ]
  },
  {
   "cell_type": "code",
   "execution_count": 6,
   "id": "809594a4",
   "metadata": {
    "execution": {
     "iopub.execute_input": "2023-12-16T14:48:07.873407Z",
     "iopub.status.busy": "2023-12-16T14:48:07.872839Z",
     "iopub.status.idle": "2023-12-16T14:48:08.307592Z",
     "shell.execute_reply": "2023-12-16T14:48:08.306145Z"
    },
    "papermill": {
     "duration": 0.457998,
     "end_time": "2023-12-16T14:48:08.310354",
     "exception": false,
     "start_time": "2023-12-16T14:48:07.852356",
     "status": "completed"
    },
    "tags": []
   },
   "outputs": [
    {
     "data": {
      "image/png": "[encoded data removed]",
      "text/plain": [
       "<Figure size 640x480 with 1 Axes>"
      ]
     },
     "metadata": {},
     "output_type": "display_data"
    }
   ],
   "source": [
    "sns.histplot(x=df['age'],bins=20,color='Orange')\n",
    "plt.title(\"Histogram of Age\")\n",
    "plt.show()"
   ]
  },
  {
   "cell_type": "code",
   "execution_count": 7,
   "id": "cd7c7e02",
   "metadata": {
    "execution": {
     "iopub.execute_input": "2023-12-16T14:48:08.350611Z",
     "iopub.status.busy": "2023-12-16T14:48:08.350060Z",
     "iopub.status.idle": "2023-12-16T14:48:08.356806Z",
     "shell.execute_reply": "2023-12-16T14:48:08.355904Z"
    },
    "papermill": {
     "duration": 0.030034,
     "end_time": "2023-12-16T14:48:08.359166",
     "exception": false,
     "start_time": "2023-12-16T14:48:08.329132",
     "status": "completed"
    },
    "tags": []
   },
   "outputs": [
    {
     "data": {
      "text/plain": [
       "Index(['age', 'sex', 'bmi', 'children', 'smoker', 'region', 'charges'], dtype='object')"
      ]
     },
     "execution_count": 7,
     "metadata": {},
     "output_type": "execute_result"
    }
   ],
   "source": [
    "df.columns"
   ]
  },
  {
   "cell_type": "code",
   "execution_count": 8,
   "id": "ace68fc7",
   "metadata": {
    "execution": {
     "iopub.execute_input": "2023-12-16T14:48:08.400396Z",
     "iopub.status.busy": "2023-12-16T14:48:08.399591Z",
     "iopub.status.idle": "2023-12-16T14:48:08.766494Z",
     "shell.execute_reply": "2023-12-16T14:48:08.764695Z"
    },
    "papermill": {
     "duration": 0.390696,
     "end_time": "2023-12-16T14:48:08.769002",
     "exception": false,
     "start_time": "2023-12-16T14:48:08.378306",
     "status": "completed"
    },
    "tags": []
   },
   "outputs": [
    {
     "data": {
      "image/png": "[encoded data removed]",
      "text/plain": [
       "<Figure size 640x480 with 1 Axes>"
      ]
     },
     "metadata": {},
     "output_type": "display_data"
    }
   ],
   "source": [
    "sns.histplot(x=df['children'],color='Orange')\n",
    "plt.title(\"Histogram of Children\")\n",
    "plt.show()"
   ]
  },
  {
   "cell_type": "code",
   "execution_count": 9,
   "id": "1246e4ae",
   "metadata": {
    "execution": {
     "iopub.execute_input": "2023-12-16T14:48:08.812182Z",
     "iopub.status.busy": "2023-12-16T14:48:08.810677Z",
     "iopub.status.idle": "2023-12-16T14:48:09.027023Z",
     "shell.execute_reply": "2023-12-16T14:48:09.025123Z"
    },
    "papermill": {
     "duration": 0.24081,
     "end_time": "2023-12-16T14:48:09.029891",
     "exception": false,
     "start_time": "2023-12-16T14:48:08.789081",
     "status": "completed"
    },
    "tags": []
   },
   "outputs": [
    {
     "data": {
      "image/png": "[encoded data removed]",
      "text/plain": [
       "<Figure size 640x480 with 1 Axes>"
      ]
     },
     "metadata": {},
     "output_type": "display_data"
    }
   ],
   "source": [
    "sns.countplot(x=df['smoker'])\n",
    "plt.show()"
   ]
  },
  {
   "cell_type": "code",
   "execution_count": 10,
   "id": "95186938",
   "metadata": {
    "execution": {
     "iopub.execute_input": "2023-12-16T14:48:09.072470Z",
     "iopub.status.busy": "2023-12-16T14:48:09.071067Z",
     "iopub.status.idle": "2023-12-16T14:48:09.337593Z",
     "shell.execute_reply": "2023-12-16T14:48:09.336115Z"
    },
    "papermill": {
     "duration": 0.291014,
     "end_time": "2023-12-16T14:48:09.340761",
     "exception": false,
     "start_time": "2023-12-16T14:48:09.049747",
     "status": "completed"
    },
    "tags": []
   },
   "outputs": [
    {
     "data": {
      "image/png": "[encoded data removed]",
      "text/plain": [
       "<Figure size 640x480 with 1 Axes>"
      ]
     },
     "metadata": {},
     "output_type": "display_data"
    }
   ],
   "source": [
    "sns.countplot(x=df['region'])\n",
    "plt.show()"
   ]
  },
  {
   "cell_type": "code",
   "execution_count": 11,
   "id": "d87aa5b1",
   "metadata": {
    "execution": {
     "iopub.execute_input": "2023-12-16T14:48:09.479492Z",
     "iopub.status.busy": "2023-12-16T14:48:09.478497Z",
     "iopub.status.idle": "2023-12-16T14:48:09.507767Z",
     "shell.execute_reply": "2023-12-16T14:48:09.506627Z"
    },
    "papermill": {
     "duration": 0.06287,
     "end_time": "2023-12-16T14:48:09.511168",
     "exception": false,
     "start_time": "2023-12-16T14:48:09.448298",
     "status": "completed"
    },
    "tags": []
   },
   "outputs": [
    {
     "data": {
      "text/html": [
       "<div>\n",
       "<style scoped>\n",
       "    .dataframe tbody tr th:only-of-type {\n",
       "        vertical-align: middle;\n",
       "    }\n",
       "\n",
       "    .dataframe tbody tr th {\n",
       "        vertical-align: top;\n",
       "    }\n",
       "\n",
       "    .dataframe thead th {\n",
       "        text-align: right;\n",
       "    }\n",
       "</style>\n",
       "<table border=\"1\" class=\"dataframe\">\n",
       "  <thead>\n",
       "    <tr style=\"text-align: right;\">\n",
       "      <th></th>\n",
       "      <th>age</th>\n",
       "      <th>sex</th>\n",
       "      <th>bmi</th>\n",
       "      <th>children</th>\n",
       "      <th>smoker</th>\n",
       "      <th>region</th>\n",
       "      <th>charges</th>\n",
       "    </tr>\n",
       "  </thead>\n",
       "  <tbody>\n",
       "    <tr>\n",
       "      <th>0</th>\n",
       "      <td>19</td>\n",
       "      <td>female</td>\n",
       "      <td>27.900</td>\n",
       "      <td>0</td>\n",
       "      <td>yes</td>\n",
       "      <td>southwest</td>\n",
       "      <td>16884.92400</td>\n",
       "    </tr>\n",
       "    <tr>\n",
       "      <th>1</th>\n",
       "      <td>18</td>\n",
       "      <td>male</td>\n",
       "      <td>33.770</td>\n",
       "      <td>1</td>\n",
       "      <td>no</td>\n",
       "      <td>southeast</td>\n",
       "      <td>1725.55230</td>\n",
       "    </tr>\n",
       "    <tr>\n",
       "      <th>2</th>\n",
       "      <td>28</td>\n",
       "      <td>male</td>\n",
       "      <td>33.000</td>\n",
       "      <td>3</td>\n",
       "      <td>no</td>\n",
       "      <td>southeast</td>\n",
       "      <td>4449.46200</td>\n",
       "    </tr>\n",
       "    <tr>\n",
       "      <th>3</th>\n",
       "      <td>33</td>\n",
       "      <td>male</td>\n",
       "      <td>22.705</td>\n",
       "      <td>0</td>\n",
       "      <td>no</td>\n",
       "      <td>northwest</td>\n",
       "      <td>21984.47061</td>\n",
       "    </tr>\n",
       "    <tr>\n",
       "      <th>4</th>\n",
       "      <td>32</td>\n",
       "      <td>male</td>\n",
       "      <td>28.880</td>\n",
       "      <td>0</td>\n",
       "      <td>no</td>\n",
       "      <td>northwest</td>\n",
       "      <td>3866.85520</td>\n",
       "    </tr>\n",
       "    <tr>\n",
       "      <th>...</th>\n",
       "      <td>...</td>\n",
       "      <td>...</td>\n",
       "      <td>...</td>\n",
       "      <td>...</td>\n",
       "      <td>...</td>\n",
       "      <td>...</td>\n",
       "      <td>...</td>\n",
       "    </tr>\n",
       "    <tr>\n",
       "      <th>2767</th>\n",
       "      <td>47</td>\n",
       "      <td>female</td>\n",
       "      <td>45.320</td>\n",
       "      <td>1</td>\n",
       "      <td>no</td>\n",
       "      <td>southeast</td>\n",
       "      <td>8569.86180</td>\n",
       "    </tr>\n",
       "    <tr>\n",
       "      <th>2768</th>\n",
       "      <td>21</td>\n",
       "      <td>female</td>\n",
       "      <td>34.600</td>\n",
       "      <td>0</td>\n",
       "      <td>no</td>\n",
       "      <td>southwest</td>\n",
       "      <td>2020.17700</td>\n",
       "    </tr>\n",
       "    <tr>\n",
       "      <th>2769</th>\n",
       "      <td>19</td>\n",
       "      <td>male</td>\n",
       "      <td>26.030</td>\n",
       "      <td>1</td>\n",
       "      <td>yes</td>\n",
       "      <td>northwest</td>\n",
       "      <td>16450.89470</td>\n",
       "    </tr>\n",
       "    <tr>\n",
       "      <th>2770</th>\n",
       "      <td>23</td>\n",
       "      <td>male</td>\n",
       "      <td>18.715</td>\n",
       "      <td>0</td>\n",
       "      <td>no</td>\n",
       "      <td>northwest</td>\n",
       "      <td>21595.38229</td>\n",
       "    </tr>\n",
       "    <tr>\n",
       "      <th>2771</th>\n",
       "      <td>54</td>\n",
       "      <td>male</td>\n",
       "      <td>31.600</td>\n",
       "      <td>0</td>\n",
       "      <td>no</td>\n",
       "      <td>southwest</td>\n",
       "      <td>9850.43200</td>\n",
       "    </tr>\n",
       "  </tbody>\n",
       "</table>\n",
       "<p>2772 rows × 7 columns</p>\n",
       "</div>"
      ],
      "text/plain": [
       "      age     sex     bmi  children smoker     region      charges\n",
       "0      19  female  27.900         0    yes  southwest  16884.92400\n",
       "1      18    male  33.770         1     no  southeast   1725.55230\n",
       "2      28    male  33.000         3     no  southeast   4449.46200\n",
       "3      33    male  22.705         0     no  northwest  21984.47061\n",
       "4      32    male  28.880         0     no  northwest   3866.85520\n",
       "...   ...     ...     ...       ...    ...        ...          ...\n",
       "2767   47  female  45.320         1     no  southeast   8569.86180\n",
       "2768   21  female  34.600         0     no  southwest   2020.17700\n",
       "2769   19    male  26.030         1    yes  northwest  16450.89470\n",
       "2770   23    male  18.715         0     no  northwest  21595.38229\n",
       "2771   54    male  31.600         0     no  southwest   9850.43200\n",
       "\n",
       "[2772 rows x 7 columns]"
      ]
     },
     "execution_count": 11,
     "metadata": {},
     "output_type": "execute_result"
    }
   ],
   "source": [
    "df"
   ]
  },
  {
   "cell_type": "markdown",
   "id": "5887153e",
   "metadata": {
    "papermill": {
     "duration": 0.022578,
     "end_time": "2023-12-16T14:48:09.558030",
     "exception": false,
     "start_time": "2023-12-16T14:48:09.535452",
     "status": "completed"
    },
    "tags": []
   },
   "source": [
    "## Handling Categorical Data"
   ]
  },
  {
   "cell_type": "code",
   "execution_count": 12,
   "id": "32cbef8c",
   "metadata": {
    "execution": {
     "iopub.execute_input": "2023-12-16T14:48:09.606209Z",
     "iopub.status.busy": "2023-12-16T14:48:09.605325Z",
     "iopub.status.idle": "2023-12-16T14:48:09.610391Z",
     "shell.execute_reply": "2023-12-16T14:48:09.609385Z"
    },
    "papermill": {
     "duration": 0.033665,
     "end_time": "2023-12-16T14:48:09.613087",
     "exception": false,
     "start_time": "2023-12-16T14:48:09.579422",
     "status": "completed"
    },
    "tags": []
   },
   "outputs": [],
   "source": [
    "# sex_data = pd.get_dummies(df['sex'],prefix='Sex',dtype=int)\n",
    "# smoker_data = pd.get_dummies(df['smoker'],prefix='Smoker',dtype=int)\n",
    "# region_data = pd.get_dummies(df['region'],prefix='Region',dtype=int)"
   ]
  },
  {
   "cell_type": "code",
   "execution_count": 13,
   "id": "472e944e",
   "metadata": {
    "execution": {
     "iopub.execute_input": "2023-12-16T14:48:09.658109Z",
     "iopub.status.busy": "2023-12-16T14:48:09.657579Z",
     "iopub.status.idle": "2023-12-16T14:48:09.663860Z",
     "shell.execute_reply": "2023-12-16T14:48:09.662364Z"
    },
    "papermill": {
     "duration": 0.032186,
     "end_time": "2023-12-16T14:48:09.666634",
     "exception": false,
     "start_time": "2023-12-16T14:48:09.634448",
     "status": "completed"
    },
    "tags": []
   },
   "outputs": [],
   "source": [
    "# df1 = pd.concat([df,sex_data,smoker_data,region_data],axis=1)\n",
    "# df1"
   ]
  },
  {
   "cell_type": "code",
   "execution_count": 14,
   "id": "0864717f",
   "metadata": {
    "execution": {
     "iopub.execute_input": "2023-12-16T14:48:09.714541Z",
     "iopub.status.busy": "2023-12-16T14:48:09.713823Z",
     "iopub.status.idle": "2023-12-16T14:48:09.720610Z",
     "shell.execute_reply": "2023-12-16T14:48:09.718984Z"
    },
    "papermill": {
     "duration": 0.035764,
     "end_time": "2023-12-16T14:48:09.724021",
     "exception": false,
     "start_time": "2023-12-16T14:48:09.688257",
     "status": "completed"
    },
    "tags": []
   },
   "outputs": [],
   "source": [
    "# df1 = df1.drop(['sex','region','smoker'],axis=1)\n",
    "# df1"
   ]
  },
  {
   "cell_type": "code",
   "execution_count": 15,
   "id": "2a3f744c",
   "metadata": {
    "execution": {
     "iopub.execute_input": "2023-12-16T14:48:09.780056Z",
     "iopub.status.busy": "2023-12-16T14:48:09.778717Z",
     "iopub.status.idle": "2023-12-16T14:48:09.784894Z",
     "shell.execute_reply": "2023-12-16T14:48:09.783682Z"
    },
    "papermill": {
     "duration": 0.033714,
     "end_time": "2023-12-16T14:48:09.787739",
     "exception": false,
     "start_time": "2023-12-16T14:48:09.754025",
     "status": "completed"
    },
    "tags": []
   },
   "outputs": [],
   "source": [
    "# df1['charges'].describe()"
   ]
  },
  {
   "cell_type": "code",
   "execution_count": 16,
   "id": "7d27354f",
   "metadata": {
    "execution": {
     "iopub.execute_input": "2023-12-16T14:48:09.834547Z",
     "iopub.status.busy": "2023-12-16T14:48:09.833630Z",
     "iopub.status.idle": "2023-12-16T14:48:09.846011Z",
     "shell.execute_reply": "2023-12-16T14:48:09.844481Z"
    },
    "papermill": {
     "duration": 0.038005,
     "end_time": "2023-12-16T14:48:09.848624",
     "exception": false,
     "start_time": "2023-12-16T14:48:09.810619",
     "status": "completed"
    },
    "tags": []
   },
   "outputs": [
    {
     "name": "stdout",
     "output_type": "stream",
     "text": [
      "sex\n",
      "male      1406\n",
      "female    1366\n",
      "Name: count, dtype: int64\n",
      "-------------------\n",
      "smoker\n",
      "no     2208\n",
      "yes     564\n",
      "Name: count, dtype: int64\n",
      "-------------------\n",
      "region\n",
      "southeast    766\n",
      "southwest    684\n",
      "northwest    664\n",
      "northeast    658\n",
      "Name: count, dtype: int64\n"
     ]
    }
   ],
   "source": [
    "print(df['sex'].value_counts())\n",
    "print('-------------------')\n",
    "print(df['smoker'].value_counts())\n",
    "print('-------------------')\n",
    "print(df['region'].value_counts())"
   ]
  },
  {
   "cell_type": "code",
   "execution_count": 17,
   "id": "95dc7bd0",
   "metadata": {
    "execution": {
     "iopub.execute_input": "2023-12-16T14:48:09.892882Z",
     "iopub.status.busy": "2023-12-16T14:48:09.891948Z",
     "iopub.status.idle": "2023-12-16T14:48:09.927609Z",
     "shell.execute_reply": "2023-12-16T14:48:09.926006Z"
    },
    "papermill": {
     "duration": 0.061455,
     "end_time": "2023-12-16T14:48:09.930877",
     "exception": false,
     "start_time": "2023-12-16T14:48:09.869422",
     "status": "completed"
    },
    "tags": []
   },
   "outputs": [
    {
     "data": {
      "text/html": [
       "<div>\n",
       "<style scoped>\n",
       "    .dataframe tbody tr th:only-of-type {\n",
       "        vertical-align: middle;\n",
       "    }\n",
       "\n",
       "    .dataframe tbody tr th {\n",
       "        vertical-align: top;\n",
       "    }\n",
       "\n",
       "    .dataframe thead th {\n",
       "        text-align: right;\n",
       "    }\n",
       "</style>\n",
       "<table border=\"1\" class=\"dataframe\">\n",
       "  <thead>\n",
       "    <tr style=\"text-align: right;\">\n",
       "      <th></th>\n",
       "      <th>age</th>\n",
       "      <th>sex</th>\n",
       "      <th>bmi</th>\n",
       "      <th>children</th>\n",
       "      <th>smoker</th>\n",
       "      <th>region</th>\n",
       "      <th>charges</th>\n",
       "    </tr>\n",
       "  </thead>\n",
       "  <tbody>\n",
       "    <tr>\n",
       "      <th>0</th>\n",
       "      <td>19</td>\n",
       "      <td>0</td>\n",
       "      <td>27.900</td>\n",
       "      <td>0</td>\n",
       "      <td>1</td>\n",
       "      <td>1</td>\n",
       "      <td>16884.92400</td>\n",
       "    </tr>\n",
       "    <tr>\n",
       "      <th>1</th>\n",
       "      <td>18</td>\n",
       "      <td>1</td>\n",
       "      <td>33.770</td>\n",
       "      <td>1</td>\n",
       "      <td>0</td>\n",
       "      <td>0</td>\n",
       "      <td>1725.55230</td>\n",
       "    </tr>\n",
       "    <tr>\n",
       "      <th>2</th>\n",
       "      <td>28</td>\n",
       "      <td>1</td>\n",
       "      <td>33.000</td>\n",
       "      <td>3</td>\n",
       "      <td>0</td>\n",
       "      <td>0</td>\n",
       "      <td>4449.46200</td>\n",
       "    </tr>\n",
       "    <tr>\n",
       "      <th>3</th>\n",
       "      <td>33</td>\n",
       "      <td>1</td>\n",
       "      <td>22.705</td>\n",
       "      <td>0</td>\n",
       "      <td>0</td>\n",
       "      <td>2</td>\n",
       "      <td>21984.47061</td>\n",
       "    </tr>\n",
       "    <tr>\n",
       "      <th>4</th>\n",
       "      <td>32</td>\n",
       "      <td>1</td>\n",
       "      <td>28.880</td>\n",
       "      <td>0</td>\n",
       "      <td>0</td>\n",
       "      <td>2</td>\n",
       "      <td>3866.85520</td>\n",
       "    </tr>\n",
       "    <tr>\n",
       "      <th>...</th>\n",
       "      <td>...</td>\n",
       "      <td>...</td>\n",
       "      <td>...</td>\n",
       "      <td>...</td>\n",
       "      <td>...</td>\n",
       "      <td>...</td>\n",
       "      <td>...</td>\n",
       "    </tr>\n",
       "    <tr>\n",
       "      <th>2767</th>\n",
       "      <td>47</td>\n",
       "      <td>0</td>\n",
       "      <td>45.320</td>\n",
       "      <td>1</td>\n",
       "      <td>0</td>\n",
       "      <td>0</td>\n",
       "      <td>8569.86180</td>\n",
       "    </tr>\n",
       "    <tr>\n",
       "      <th>2768</th>\n",
       "      <td>21</td>\n",
       "      <td>0</td>\n",
       "      <td>34.600</td>\n",
       "      <td>0</td>\n",
       "      <td>0</td>\n",
       "      <td>1</td>\n",
       "      <td>2020.17700</td>\n",
       "    </tr>\n",
       "    <tr>\n",
       "      <th>2769</th>\n",
       "      <td>19</td>\n",
       "      <td>1</td>\n",
       "      <td>26.030</td>\n",
       "      <td>1</td>\n",
       "      <td>1</td>\n",
       "      <td>2</td>\n",
       "      <td>16450.89470</td>\n",
       "    </tr>\n",
       "    <tr>\n",
       "      <th>2770</th>\n",
       "      <td>23</td>\n",
       "      <td>1</td>\n",
       "      <td>18.715</td>\n",
       "      <td>0</td>\n",
       "      <td>0</td>\n",
       "      <td>2</td>\n",
       "      <td>21595.38229</td>\n",
       "    </tr>\n",
       "    <tr>\n",
       "      <th>2771</th>\n",
       "      <td>54</td>\n",
       "      <td>1</td>\n",
       "      <td>31.600</td>\n",
       "      <td>0</td>\n",
       "      <td>0</td>\n",
       "      <td>1</td>\n",
       "      <td>9850.43200</td>\n",
       "    </tr>\n",
       "  </tbody>\n",
       "</table>\n",
       "<p>2772 rows × 7 columns</p>\n",
       "</div>"
      ],
      "text/plain": [
       "      age  sex     bmi  children  smoker  region      charges\n",
       "0      19    0  27.900         0       1       1  16884.92400\n",
       "1      18    1  33.770         1       0       0   1725.55230\n",
       "2      28    1  33.000         3       0       0   4449.46200\n",
       "3      33    1  22.705         0       0       2  21984.47061\n",
       "4      32    1  28.880         0       0       2   3866.85520\n",
       "...   ...  ...     ...       ...     ...     ...          ...\n",
       "2767   47    0  45.320         1       0       0   8569.86180\n",
       "2768   21    0  34.600         0       0       1   2020.17700\n",
       "2769   19    1  26.030         1       1       2  16450.89470\n",
       "2770   23    1  18.715         0       0       2  21595.38229\n",
       "2771   54    1  31.600         0       0       1   9850.43200\n",
       "\n",
       "[2772 rows x 7 columns]"
      ]
     },
     "execution_count": 17,
     "metadata": {},
     "output_type": "execute_result"
    }
   ],
   "source": [
    "df['sex'] = df['sex'].replace({'female':0 ,'male':1})\n",
    "df['smoker'] = df['smoker'].replace({'no':0,'yes':1})\n",
    "df['region'] = df['region'].replace({'southeast':0,'southwest':1,\n",
    "                                    'northwest':2,'northeast':3})\n",
    "df"
   ]
  },
  {
   "cell_type": "code",
   "execution_count": null,
   "id": "6fb4b6af",
   "metadata": {
    "papermill": {
     "duration": 0.02562,
     "end_time": "2023-12-16T14:48:09.979210",
     "exception": false,
     "start_time": "2023-12-16T14:48:09.953590",
     "status": "completed"
    },
    "tags": []
   },
   "outputs": [],
   "source": []
  },
  {
   "cell_type": "code",
   "execution_count": 18,
   "id": "d4e10f1a",
   "metadata": {
    "execution": {
     "iopub.execute_input": "2023-12-16T14:48:10.031057Z",
     "iopub.status.busy": "2023-12-16T14:48:10.030174Z",
     "iopub.status.idle": "2023-12-16T14:48:10.489406Z",
     "shell.execute_reply": "2023-12-16T14:48:10.488066Z"
    },
    "papermill": {
     "duration": 0.488872,
     "end_time": "2023-12-16T14:48:10.492176",
     "exception": false,
     "start_time": "2023-12-16T14:48:10.003304",
     "status": "completed"
    },
    "tags": []
   },
   "outputs": [
    {
     "data": {
      "image/png": "[encoded data removed]",
      "text/plain": [
       "<Figure size 1200x1200 with 1 Axes>"
      ]
     },
     "metadata": {},
     "output_type": "display_data"
    }
   ],
   "source": [
    "plt.figure(figsize=(12,12))\n",
    "sns.histplot(x=df['charges'],color='Green')\n",
    "plt.title('Histogram of Charges',fontsize=14)\n",
    "plt.xlabel('Charges')\n",
    "plt.show()"
   ]
  },
  {
   "cell_type": "code",
   "execution_count": 19,
   "id": "51f75033",
   "metadata": {
    "execution": {
     "iopub.execute_input": "2023-12-16T14:48:10.541764Z",
     "iopub.status.busy": "2023-12-16T14:48:10.541337Z",
     "iopub.status.idle": "2023-12-16T14:48:10.548434Z",
     "shell.execute_reply": "2023-12-16T14:48:10.547083Z"
    },
    "papermill": {
     "duration": 0.035773,
     "end_time": "2023-12-16T14:48:10.551267",
     "exception": false,
     "start_time": "2023-12-16T14:48:10.515494",
     "status": "completed"
    },
    "tags": []
   },
   "outputs": [],
   "source": [
    "x = df.drop('charges',axis=1)\n",
    "y = df['charges']"
   ]
  },
  {
   "cell_type": "code",
   "execution_count": 20,
   "id": "822c4e11",
   "metadata": {
    "execution": {
     "iopub.execute_input": "2023-12-16T14:48:10.601972Z",
     "iopub.status.busy": "2023-12-16T14:48:10.601533Z",
     "iopub.status.idle": "2023-12-16T14:48:10.620319Z",
     "shell.execute_reply": "2023-12-16T14:48:10.618992Z"
    },
    "papermill": {
     "duration": 0.046786,
     "end_time": "2023-12-16T14:48:10.623315",
     "exception": false,
     "start_time": "2023-12-16T14:48:10.576529",
     "status": "completed"
    },
    "tags": []
   },
   "outputs": [
    {
     "data": {
      "text/html": [
       "<div>\n",
       "<style scoped>\n",
       "    .dataframe tbody tr th:only-of-type {\n",
       "        vertical-align: middle;\n",
       "    }\n",
       "\n",
       "    .dataframe tbody tr th {\n",
       "        vertical-align: top;\n",
       "    }\n",
       "\n",
       "    .dataframe thead th {\n",
       "        text-align: right;\n",
       "    }\n",
       "</style>\n",
       "<table border=\"1\" class=\"dataframe\">\n",
       "  <thead>\n",
       "    <tr style=\"text-align: right;\">\n",
       "      <th></th>\n",
       "      <th>age</th>\n",
       "      <th>sex</th>\n",
       "      <th>bmi</th>\n",
       "      <th>children</th>\n",
       "      <th>smoker</th>\n",
       "      <th>region</th>\n",
       "    </tr>\n",
       "  </thead>\n",
       "  <tbody>\n",
       "    <tr>\n",
       "      <th>0</th>\n",
       "      <td>19</td>\n",
       "      <td>0</td>\n",
       "      <td>27.900</td>\n",
       "      <td>0</td>\n",
       "      <td>1</td>\n",
       "      <td>1</td>\n",
       "    </tr>\n",
       "    <tr>\n",
       "      <th>1</th>\n",
       "      <td>18</td>\n",
       "      <td>1</td>\n",
       "      <td>33.770</td>\n",
       "      <td>1</td>\n",
       "      <td>0</td>\n",
       "      <td>0</td>\n",
       "    </tr>\n",
       "    <tr>\n",
       "      <th>2</th>\n",
       "      <td>28</td>\n",
       "      <td>1</td>\n",
       "      <td>33.000</td>\n",
       "      <td>3</td>\n",
       "      <td>0</td>\n",
       "      <td>0</td>\n",
       "    </tr>\n",
       "    <tr>\n",
       "      <th>3</th>\n",
       "      <td>33</td>\n",
       "      <td>1</td>\n",
       "      <td>22.705</td>\n",
       "      <td>0</td>\n",
       "      <td>0</td>\n",
       "      <td>2</td>\n",
       "    </tr>\n",
       "    <tr>\n",
       "      <th>4</th>\n",
       "      <td>32</td>\n",
       "      <td>1</td>\n",
       "      <td>28.880</td>\n",
       "      <td>0</td>\n",
       "      <td>0</td>\n",
       "      <td>2</td>\n",
       "    </tr>\n",
       "    <tr>\n",
       "      <th>...</th>\n",
       "      <td>...</td>\n",
       "      <td>...</td>\n",
       "      <td>...</td>\n",
       "      <td>...</td>\n",
       "      <td>...</td>\n",
       "      <td>...</td>\n",
       "    </tr>\n",
       "    <tr>\n",
       "      <th>2767</th>\n",
       "      <td>47</td>\n",
       "      <td>0</td>\n",
       "      <td>45.320</td>\n",
       "      <td>1</td>\n",
       "      <td>0</td>\n",
       "      <td>0</td>\n",
       "    </tr>\n",
       "    <tr>\n",
       "      <th>2768</th>\n",
       "      <td>21</td>\n",
       "      <td>0</td>\n",
       "      <td>34.600</td>\n",
       "      <td>0</td>\n",
       "      <td>0</td>\n",
       "      <td>1</td>\n",
       "    </tr>\n",
       "    <tr>\n",
       "      <th>2769</th>\n",
       "      <td>19</td>\n",
       "      <td>1</td>\n",
       "      <td>26.030</td>\n",
       "      <td>1</td>\n",
       "      <td>1</td>\n",
       "      <td>2</td>\n",
       "    </tr>\n",
       "    <tr>\n",
       "      <th>2770</th>\n",
       "      <td>23</td>\n",
       "      <td>1</td>\n",
       "      <td>18.715</td>\n",
       "      <td>0</td>\n",
       "      <td>0</td>\n",
       "      <td>2</td>\n",
       "    </tr>\n",
       "    <tr>\n",
       "      <th>2771</th>\n",
       "      <td>54</td>\n",
       "      <td>1</td>\n",
       "      <td>31.600</td>\n",
       "      <td>0</td>\n",
       "      <td>0</td>\n",
       "      <td>1</td>\n",
       "    </tr>\n",
       "  </tbody>\n",
       "</table>\n",
       "<p>2772 rows × 6 columns</p>\n",
       "</div>"
      ],
      "text/plain": [
       "      age  sex     bmi  children  smoker  region\n",
       "0      19    0  27.900         0       1       1\n",
       "1      18    1  33.770         1       0       0\n",
       "2      28    1  33.000         3       0       0\n",
       "3      33    1  22.705         0       0       2\n",
       "4      32    1  28.880         0       0       2\n",
       "...   ...  ...     ...       ...     ...     ...\n",
       "2767   47    0  45.320         1       0       0\n",
       "2768   21    0  34.600         0       0       1\n",
       "2769   19    1  26.030         1       1       2\n",
       "2770   23    1  18.715         0       0       2\n",
       "2771   54    1  31.600         0       0       1\n",
       "\n",
       "[2772 rows x 6 columns]"
      ]
     },
     "execution_count": 20,
     "metadata": {},
     "output_type": "execute_result"
    }
   ],
   "source": [
    "x"
   ]
  },
  {
   "cell_type": "code",
   "execution_count": 21,
   "id": "66abfb1d",
   "metadata": {
    "execution": {
     "iopub.execute_input": "2023-12-16T14:48:10.674741Z",
     "iopub.status.busy": "2023-12-16T14:48:10.673058Z",
     "iopub.status.idle": "2023-12-16T14:48:10.683685Z",
     "shell.execute_reply": "2023-12-16T14:48:10.682500Z"
    },
    "papermill": {
     "duration": 0.039321,
     "end_time": "2023-12-16T14:48:10.686773",
     "exception": false,
     "start_time": "2023-12-16T14:48:10.647452",
     "status": "completed"
    },
    "tags": []
   },
   "outputs": [
    {
     "data": {
      "text/plain": [
       "0       16884.92400\n",
       "1        1725.55230\n",
       "2        4449.46200\n",
       "3       21984.47061\n",
       "4        3866.85520\n",
       "           ...     \n",
       "2767     8569.86180\n",
       "2768     2020.17700\n",
       "2769    16450.89470\n",
       "2770    21595.38229\n",
       "2771     9850.43200\n",
       "Name: charges, Length: 2772, dtype: float64"
      ]
     },
     "execution_count": 21,
     "metadata": {},
     "output_type": "execute_result"
    }
   ],
   "source": [
    "y"
   ]
  },
  {
   "cell_type": "code",
   "execution_count": 22,
   "id": "6b73bdd8",
   "metadata": {
    "execution": {
     "iopub.execute_input": "2023-12-16T14:48:10.736836Z",
     "iopub.status.busy": "2023-12-16T14:48:10.736203Z",
     "iopub.status.idle": "2023-12-16T14:48:12.538930Z",
     "shell.execute_reply": "2023-12-16T14:48:12.537473Z"
    },
    "papermill": {
     "duration": 1.830712,
     "end_time": "2023-12-16T14:48:12.541821",
     "exception": false,
     "start_time": "2023-12-16T14:48:10.711109",
     "status": "completed"
    },
    "tags": []
   },
   "outputs": [
    {
     "data": {
      "image/png": "[encoded data removed]",
      "text/plain": [
       "<Figure size 1200x1600 with 6 Axes>"
      ]
     },
     "metadata": {},
     "output_type": "display_data"
    }
   ],
   "source": [
    "plt.figure(figsize=(12,16))\n",
    "i=1\n",
    "for col in x.columns:\n",
    "    plt.subplot(4,3,i)\n",
    "    sns.kdeplot(x[col])\n",
    "    i+=1"
   ]
  },
  {
   "cell_type": "code",
   "execution_count": 23,
   "id": "2dcadc2b",
   "metadata": {
    "execution": {
     "iopub.execute_input": "2023-12-16T14:48:12.593109Z",
     "iopub.status.busy": "2023-12-16T14:48:12.592653Z",
     "iopub.status.idle": "2023-12-16T14:48:13.732829Z",
     "shell.execute_reply": "2023-12-16T14:48:13.731785Z"
    },
    "papermill": {
     "duration": 1.1691,
     "end_time": "2023-12-16T14:48:13.735203",
     "exception": false,
     "start_time": "2023-12-16T14:48:12.566103",
     "status": "completed"
    },
    "tags": []
   },
   "outputs": [
    {
     "data": {
      "image/png": "[encoded data removed]",
      "text/plain": [
       "<Figure size 1200x1600 with 6 Axes>"
      ]
     },
     "metadata": {},
     "output_type": "display_data"
    }
   ],
   "source": [
    "plt.figure(figsize=(12,16))\n",
    "i=1\n",
    "for col in x.columns:\n",
    "    plt.subplot(4,3,i)\n",
    "    x[[col]].boxplot()\n",
    "    i+=1"
   ]
  },
  {
   "cell_type": "markdown",
   "id": "d6a0ff8c",
   "metadata": {
    "papermill": {
     "duration": 0.024332,
     "end_time": "2023-12-16T14:48:13.784253",
     "exception": false,
     "start_time": "2023-12-16T14:48:13.759921",
     "status": "completed"
    },
    "tags": []
   },
   "source": [
    "## Split The Data"
   ]
  },
  {
   "cell_type": "code",
   "execution_count": 24,
   "id": "f8f58229",
   "metadata": {
    "execution": {
     "iopub.execute_input": "2023-12-16T14:48:13.836396Z",
     "iopub.status.busy": "2023-12-16T14:48:13.835817Z",
     "iopub.status.idle": "2023-12-16T14:48:13.848043Z",
     "shell.execute_reply": "2023-12-16T14:48:13.846141Z"
    },
    "papermill": {
     "duration": 0.041893,
     "end_time": "2023-12-16T14:48:13.851069",
     "exception": false,
     "start_time": "2023-12-16T14:48:13.809176",
     "status": "completed"
    },
    "tags": []
   },
   "outputs": [
    {
     "name": "stdout",
     "output_type": "stream",
     "text": [
      "(2494, 6)\n",
      "(278, 6)\n",
      "(2494,)\n",
      "(278,)\n"
     ]
    }
   ],
   "source": [
    "x_train,x_test,y_train,y_test = train_test_split(x,y,test_size=0.10,shuffle=True)\n",
    "print(x_train.shape)\n",
    "print(x_test.shape)\n",
    "print(y_train.shape)\n",
    "print(y_test.shape)"
   ]
  },
  {
   "cell_type": "markdown",
   "id": "741dbce0",
   "metadata": {
    "papermill": {
     "duration": 0.025026,
     "end_time": "2023-12-16T14:48:13.901084",
     "exception": false,
     "start_time": "2023-12-16T14:48:13.876058",
     "status": "completed"
    },
    "tags": []
   },
   "source": [
    "## Scale The Data"
   ]
  },
  {
   "cell_type": "code",
   "execution_count": 25,
   "id": "10ce66e9",
   "metadata": {
    "execution": {
     "iopub.execute_input": "2023-12-16T14:48:13.954019Z",
     "iopub.status.busy": "2023-12-16T14:48:13.953522Z",
     "iopub.status.idle": "2023-12-16T14:48:13.967978Z",
     "shell.execute_reply": "2023-12-16T14:48:13.966724Z"
    },
    "papermill": {
     "duration": 0.044654,
     "end_time": "2023-12-16T14:48:13.970741",
     "exception": false,
     "start_time": "2023-12-16T14:48:13.926087",
     "status": "completed"
    },
    "tags": []
   },
   "outputs": [
    {
     "data": {
      "text/html": [
       "<style>#sk-container-id-1 {color: black;background-color: white;}#sk-container-id-1 pre{padding: 0;}#sk-container-id-1 div.sk-toggleable {background-color: white;}#sk-container-id-1 label.sk-toggleable__label {cursor: pointer;display: block;width: 100%;margin-bottom: 0;padding: 0.3em;box-sizing: border-box;text-align: center;}#sk-container-id-1 label.sk-toggleable__label-arrow:before {content: \"▸\";float: left;margin-right: 0.25em;color: #696969;}#sk-container-id-1 label.sk-toggleable__label-arrow:hover:before {color: black;}#sk-container-id-1 div.sk-estimator:hover label.sk-toggleable__label-arrow:before {color: black;}#sk-container-id-1 div.sk-toggleable__content {max-height: 0;max-width: 0;overflow: hidden;text-align: left;background-color: #f0f8ff;}#sk-container-id-1 div.sk-toggleable__content pre {margin: 0.2em;color: black;border-radius: 0.25em;background-color: #f0f8ff;}#sk-container-id-1 input.sk-toggleable__control:checked~div.sk-toggleable__content {max-height: 200px;max-width: 100%;overflow: auto;}#sk-container-id-1 input.sk-toggleable__control:checked~label.sk-toggleable__label-arrow:before {content: \"▾\";}#sk-container-id-1 div.sk-estimator input.sk-toggleable__control:checked~label.sk-toggleable__label {background-color: #d4ebff;}#sk-container-id-1 div.sk-label input.sk-toggleable__control:checked~label.sk-toggleable__label {background-color: #d4ebff;}#sk-container-id-1 input.sk-hidden--visually {border: 0;clip: rect(1px 1px 1px 1px);clip: rect(1px, 1px, 1px, 1px);height: 1px;margin: -1px;overflow: hidden;padding: 0;position: absolute;width: 1px;}#sk-container-id-1 div.sk-estimator {font-family: monospace;background-color: #f0f8ff;border: 1px dotted black;border-radius: 0.25em;box-sizing: border-box;margin-bottom: 0.5em;}#sk-container-id-1 div.sk-estimator:hover {background-color: #d4ebff;}#sk-container-id-1 div.sk-parallel-item::after {content: \"\";width: 100%;border-bottom: 1px solid gray;flex-grow: 1;}#sk-container-id-1 div.sk-label:hover label.sk-toggleable__label {background-color: #d4ebff;}#sk-container-id-1 div.sk-serial::before {content: \"\";position: absolute;border-left: 1px solid gray;box-sizing: border-box;top: 0;bottom: 0;left: 50%;z-index: 0;}#sk-container-id-1 div.sk-serial {display: flex;flex-direction: column;align-items: center;background-color: white;padding-right: 0.2em;padding-left: 0.2em;position: relative;}#sk-container-id-1 div.sk-item {position: relative;z-index: 1;}#sk-container-id-1 div.sk-parallel {display: flex;align-items: stretch;justify-content: center;background-color: white;position: relative;}#sk-container-id-1 div.sk-item::before, #sk-container-id-1 div.sk-parallel-item::before {content: \"\";position: absolute;border-left: 1px solid gray;box-sizing: border-box;top: 0;bottom: 0;left: 50%;z-index: -1;}#sk-container-id-1 div.sk-parallel-item {display: flex;flex-direction: column;z-index: 1;position: relative;background-color: white;}#sk-container-id-1 div.sk-parallel-item:first-child::after {align-self: flex-end;width: 50%;}#sk-container-id-1 div.sk-parallel-item:last-child::after {align-self: flex-start;width: 50%;}#sk-container-id-1 div.sk-parallel-item:only-child::after {width: 0;}#sk-container-id-1 div.sk-dashed-wrapped {border: 1px dashed gray;margin: 0 0.4em 0.5em 0.4em;box-sizing: border-box;padding-bottom: 0.4em;background-color: white;}#sk-container-id-1 div.sk-label label {font-family: monospace;font-weight: bold;display: inline-block;line-height: 1.2em;}#sk-container-id-1 div.sk-label-container {text-align: center;}#sk-container-id-1 div.sk-container {/* jupyter's `normalize.less` sets `[hidden] { display: none; }` but bootstrap.min.css set `[hidden] { display: none !important; }` so we also need the `!important` here to be able to override the default hidden behavior on the sphinx rendered scikit-learn.org. See: https://github.com/scikit-learn/scikit-learn/issues/21755 */display: inline-block !important;position: relative;}#sk-container-id-1 div.sk-text-repr-fallback {display: none;}</style><div id=\"sk-container-id-1\" class=\"sk-top-container\"><div class=\"sk-text-repr-fallback\"><pre>MinMaxScaler()</pre><b>In a Jupyter environment, please rerun this cell to show the HTML representation or trust the notebook. <br />On GitHub, the HTML representation is unable to render, please try loading this page with nbviewer.org.</b></div><div class=\"sk-container\" hidden><div class=\"sk-item\"><div class=\"sk-estimator sk-toggleable\"><input class=\"sk-toggleable__control sk-hidden--visually\" id=\"sk-estimator-id-1\" type=\"checkbox\" checked><label for=\"sk-estimator-id-1\" class=\"sk-toggleable__label sk-toggleable__label-arrow\">MinMaxScaler</label><div class=\"sk-toggleable__content\"><pre>MinMaxScaler()</pre></div></div></div></div></div>"
      ],
      "text/plain": [
       "MinMaxScaler()"
      ]
     },
     "execution_count": 25,
     "metadata": {},
     "output_type": "execute_result"
    }
   ],
   "source": [
    "scaler = MinMaxScaler()\n",
    "scaler.fit(x_train)"
   ]
  },
  {
   "cell_type": "code",
   "execution_count": 26,
   "id": "44fe3ac7",
   "metadata": {
    "execution": {
     "iopub.execute_input": "2023-12-16T14:48:14.029457Z",
     "iopub.status.busy": "2023-12-16T14:48:14.027975Z",
     "iopub.status.idle": "2023-12-16T14:48:14.060200Z",
     "shell.execute_reply": "2023-12-16T14:48:14.058417Z"
    },
    "papermill": {
     "duration": 0.068598,
     "end_time": "2023-12-16T14:48:14.065700",
     "exception": false,
     "start_time": "2023-12-16T14:48:13.997102",
     "status": "completed"
    },
    "tags": []
   },
   "outputs": [
    {
     "data": {
      "text/html": [
       "<div>\n",
       "<style scoped>\n",
       "    .dataframe tbody tr th:only-of-type {\n",
       "        vertical-align: middle;\n",
       "    }\n",
       "\n",
       "    .dataframe tbody tr th {\n",
       "        vertical-align: top;\n",
       "    }\n",
       "\n",
       "    .dataframe thead th {\n",
       "        text-align: right;\n",
       "    }\n",
       "</style>\n",
       "<table border=\"1\" class=\"dataframe\">\n",
       "  <thead>\n",
       "    <tr style=\"text-align: right;\">\n",
       "      <th></th>\n",
       "      <th>age</th>\n",
       "      <th>sex</th>\n",
       "      <th>bmi</th>\n",
       "      <th>children</th>\n",
       "      <th>smoker</th>\n",
       "      <th>region</th>\n",
       "    </tr>\n",
       "  </thead>\n",
       "  <tbody>\n",
       "    <tr>\n",
       "      <th>0</th>\n",
       "      <td>0.478261</td>\n",
       "      <td>1.0</td>\n",
       "      <td>0.360371</td>\n",
       "      <td>0.2</td>\n",
       "      <td>0.0</td>\n",
       "      <td>0.666667</td>\n",
       "    </tr>\n",
       "    <tr>\n",
       "      <th>1</th>\n",
       "      <td>0.282609</td>\n",
       "      <td>0.0</td>\n",
       "      <td>0.155905</td>\n",
       "      <td>0.0</td>\n",
       "      <td>0.0</td>\n",
       "      <td>0.666667</td>\n",
       "    </tr>\n",
       "    <tr>\n",
       "      <th>2</th>\n",
       "      <td>0.456522</td>\n",
       "      <td>1.0</td>\n",
       "      <td>0.276029</td>\n",
       "      <td>0.2</td>\n",
       "      <td>0.0</td>\n",
       "      <td>0.666667</td>\n",
       "    </tr>\n",
       "    <tr>\n",
       "      <th>3</th>\n",
       "      <td>0.000000</td>\n",
       "      <td>1.0</td>\n",
       "      <td>0.467312</td>\n",
       "      <td>0.0</td>\n",
       "      <td>0.0</td>\n",
       "      <td>0.000000</td>\n",
       "    </tr>\n",
       "    <tr>\n",
       "      <th>4</th>\n",
       "      <td>0.586957</td>\n",
       "      <td>0.0</td>\n",
       "      <td>0.391041</td>\n",
       "      <td>0.2</td>\n",
       "      <td>1.0</td>\n",
       "      <td>0.666667</td>\n",
       "    </tr>\n",
       "    <tr>\n",
       "      <th>...</th>\n",
       "      <td>...</td>\n",
       "      <td>...</td>\n",
       "      <td>...</td>\n",
       "      <td>...</td>\n",
       "      <td>...</td>\n",
       "      <td>...</td>\n",
       "    </tr>\n",
       "    <tr>\n",
       "      <th>2489</th>\n",
       "      <td>0.391304</td>\n",
       "      <td>1.0</td>\n",
       "      <td>0.311811</td>\n",
       "      <td>0.6</td>\n",
       "      <td>0.0</td>\n",
       "      <td>1.000000</td>\n",
       "    </tr>\n",
       "    <tr>\n",
       "      <th>2490</th>\n",
       "      <td>0.847826</td>\n",
       "      <td>1.0</td>\n",
       "      <td>0.350148</td>\n",
       "      <td>0.0</td>\n",
       "      <td>1.0</td>\n",
       "      <td>1.000000</td>\n",
       "    </tr>\n",
       "    <tr>\n",
       "      <th>2491</th>\n",
       "      <td>0.282609</td>\n",
       "      <td>0.0</td>\n",
       "      <td>0.205542</td>\n",
       "      <td>0.4</td>\n",
       "      <td>0.0</td>\n",
       "      <td>0.333333</td>\n",
       "    </tr>\n",
       "    <tr>\n",
       "      <th>2492</th>\n",
       "      <td>0.173913</td>\n",
       "      <td>0.0</td>\n",
       "      <td>0.168684</td>\n",
       "      <td>0.0</td>\n",
       "      <td>0.0</td>\n",
       "      <td>0.666667</td>\n",
       "    </tr>\n",
       "    <tr>\n",
       "      <th>2493</th>\n",
       "      <td>0.173913</td>\n",
       "      <td>1.0</td>\n",
       "      <td>0.377724</td>\n",
       "      <td>0.2</td>\n",
       "      <td>0.0</td>\n",
       "      <td>0.333333</td>\n",
       "    </tr>\n",
       "  </tbody>\n",
       "</table>\n",
       "<p>2494 rows × 6 columns</p>\n",
       "</div>"
      ],
      "text/plain": [
       "           age  sex       bmi  children  smoker    region\n",
       "0     0.478261  1.0  0.360371       0.2     0.0  0.666667\n",
       "1     0.282609  0.0  0.155905       0.0     0.0  0.666667\n",
       "2     0.456522  1.0  0.276029       0.2     0.0  0.666667\n",
       "3     0.000000  1.0  0.467312       0.0     0.0  0.000000\n",
       "4     0.586957  0.0  0.391041       0.2     1.0  0.666667\n",
       "...        ...  ...       ...       ...     ...       ...\n",
       "2489  0.391304  1.0  0.311811       0.6     0.0  1.000000\n",
       "2490  0.847826  1.0  0.350148       0.0     1.0  1.000000\n",
       "2491  0.282609  0.0  0.205542       0.4     0.0  0.333333\n",
       "2492  0.173913  0.0  0.168684       0.0     0.0  0.666667\n",
       "2493  0.173913  1.0  0.377724       0.2     0.0  0.333333\n",
       "\n",
       "[2494 rows x 6 columns]"
      ]
     },
     "execution_count": 26,
     "metadata": {},
     "output_type": "execute_result"
    }
   ],
   "source": [
    "x_train_scaled = pd.DataFrame(scaler.transform(x_train),columns=x_train.columns)\n",
    "x_test_scaled = pd.DataFrame(scaler.transform(x_test),columns=x_test.columns)\n",
    "x_train_scaled"
   ]
  },
  {
   "cell_type": "code",
   "execution_count": 27,
   "id": "b6cfb7c1",
   "metadata": {
    "execution": {
     "iopub.execute_input": "2023-12-16T14:48:14.124841Z",
     "iopub.status.busy": "2023-12-16T14:48:14.124352Z",
     "iopub.status.idle": "2023-12-16T14:48:14.146237Z",
     "shell.execute_reply": "2023-12-16T14:48:14.144484Z"
    },
    "papermill": {
     "duration": 0.054433,
     "end_time": "2023-12-16T14:48:14.149467",
     "exception": false,
     "start_time": "2023-12-16T14:48:14.095034",
     "status": "completed"
    },
    "tags": []
   },
   "outputs": [
    {
     "data": {
      "text/html": [
       "<div>\n",
       "<style scoped>\n",
       "    .dataframe tbody tr th:only-of-type {\n",
       "        vertical-align: middle;\n",
       "    }\n",
       "\n",
       "    .dataframe tbody tr th {\n",
       "        vertical-align: top;\n",
       "    }\n",
       "\n",
       "    .dataframe thead th {\n",
       "        text-align: right;\n",
       "    }\n",
       "</style>\n",
       "<table border=\"1\" class=\"dataframe\">\n",
       "  <thead>\n",
       "    <tr style=\"text-align: right;\">\n",
       "      <th></th>\n",
       "      <th>age</th>\n",
       "      <th>sex</th>\n",
       "      <th>bmi</th>\n",
       "      <th>children</th>\n",
       "      <th>smoker</th>\n",
       "      <th>region</th>\n",
       "    </tr>\n",
       "  </thead>\n",
       "  <tbody>\n",
       "    <tr>\n",
       "      <th>0</th>\n",
       "      <td>0.021739</td>\n",
       "      <td>1.0</td>\n",
       "      <td>0.564837</td>\n",
       "      <td>0.0</td>\n",
       "      <td>1.0</td>\n",
       "      <td>0.666667</td>\n",
       "    </tr>\n",
       "    <tr>\n",
       "      <th>1</th>\n",
       "      <td>0.978261</td>\n",
       "      <td>0.0</td>\n",
       "      <td>0.562012</td>\n",
       "      <td>0.0</td>\n",
       "      <td>0.0</td>\n",
       "      <td>0.000000</td>\n",
       "    </tr>\n",
       "    <tr>\n",
       "      <th>2</th>\n",
       "      <td>0.195652</td>\n",
       "      <td>0.0</td>\n",
       "      <td>0.388485</td>\n",
       "      <td>0.6</td>\n",
       "      <td>0.0</td>\n",
       "      <td>0.666667</td>\n",
       "    </tr>\n",
       "    <tr>\n",
       "      <th>3</th>\n",
       "      <td>0.978261</td>\n",
       "      <td>1.0</td>\n",
       "      <td>0.461125</td>\n",
       "      <td>0.0</td>\n",
       "      <td>0.0</td>\n",
       "      <td>0.333333</td>\n",
       "    </tr>\n",
       "    <tr>\n",
       "      <th>4</th>\n",
       "      <td>0.652174</td>\n",
       "      <td>1.0</td>\n",
       "      <td>0.439602</td>\n",
       "      <td>0.2</td>\n",
       "      <td>0.0</td>\n",
       "      <td>0.666667</td>\n",
       "    </tr>\n",
       "    <tr>\n",
       "      <th>...</th>\n",
       "      <td>...</td>\n",
       "      <td>...</td>\n",
       "      <td>...</td>\n",
       "      <td>...</td>\n",
       "      <td>...</td>\n",
       "      <td>...</td>\n",
       "    </tr>\n",
       "    <tr>\n",
       "      <th>273</th>\n",
       "      <td>0.282609</td>\n",
       "      <td>0.0</td>\n",
       "      <td>0.353511</td>\n",
       "      <td>0.0</td>\n",
       "      <td>0.0</td>\n",
       "      <td>0.333333</td>\n",
       "    </tr>\n",
       "    <tr>\n",
       "      <th>274</th>\n",
       "      <td>0.956522</td>\n",
       "      <td>1.0</td>\n",
       "      <td>0.378262</td>\n",
       "      <td>0.0</td>\n",
       "      <td>0.0</td>\n",
       "      <td>0.666667</td>\n",
       "    </tr>\n",
       "    <tr>\n",
       "      <th>275</th>\n",
       "      <td>0.000000</td>\n",
       "      <td>1.0</td>\n",
       "      <td>0.727737</td>\n",
       "      <td>0.0</td>\n",
       "      <td>0.0</td>\n",
       "      <td>0.000000</td>\n",
       "    </tr>\n",
       "    <tr>\n",
       "      <th>276</th>\n",
       "      <td>0.021739</td>\n",
       "      <td>1.0</td>\n",
       "      <td>0.247915</td>\n",
       "      <td>0.0</td>\n",
       "      <td>0.0</td>\n",
       "      <td>0.666667</td>\n",
       "    </tr>\n",
       "    <tr>\n",
       "      <th>277</th>\n",
       "      <td>0.000000</td>\n",
       "      <td>1.0</td>\n",
       "      <td>0.195050</td>\n",
       "      <td>0.0</td>\n",
       "      <td>0.0</td>\n",
       "      <td>0.000000</td>\n",
       "    </tr>\n",
       "  </tbody>\n",
       "</table>\n",
       "<p>278 rows × 6 columns</p>\n",
       "</div>"
      ],
      "text/plain": [
       "          age  sex       bmi  children  smoker    region\n",
       "0    0.021739  1.0  0.564837       0.0     1.0  0.666667\n",
       "1    0.978261  0.0  0.562012       0.0     0.0  0.000000\n",
       "2    0.195652  0.0  0.388485       0.6     0.0  0.666667\n",
       "3    0.978261  1.0  0.461125       0.0     0.0  0.333333\n",
       "4    0.652174  1.0  0.439602       0.2     0.0  0.666667\n",
       "..        ...  ...       ...       ...     ...       ...\n",
       "273  0.282609  0.0  0.353511       0.0     0.0  0.333333\n",
       "274  0.956522  1.0  0.378262       0.0     0.0  0.666667\n",
       "275  0.000000  1.0  0.727737       0.0     0.0  0.000000\n",
       "276  0.021739  1.0  0.247915       0.0     0.0  0.666667\n",
       "277  0.000000  1.0  0.195050       0.0     0.0  0.000000\n",
       "\n",
       "[278 rows x 6 columns]"
      ]
     },
     "execution_count": 27,
     "metadata": {},
     "output_type": "execute_result"
    }
   ],
   "source": [
    "x_test_scaled"
   ]
  },
  {
   "cell_type": "code",
   "execution_count": null,
   "id": "7e069b2d",
   "metadata": {
    "papermill": {
     "duration": 0.028007,
     "end_time": "2023-12-16T14:48:14.205811",
     "exception": false,
     "start_time": "2023-12-16T14:48:14.177804",
     "status": "completed"
    },
    "tags": []
   },
   "outputs": [],
   "source": []
  },
  {
   "cell_type": "markdown",
   "id": "3aa1e0fe",
   "metadata": {
    "papermill": {
     "duration": 0.029037,
     "end_time": "2023-12-16T14:48:14.263030",
     "exception": false,
     "start_time": "2023-12-16T14:48:14.233993",
     "status": "completed"
    },
    "tags": []
   },
   "source": [
    "## Build Model"
   ]
  },
  {
   "cell_type": "markdown",
   "id": "ad44a2fc",
   "metadata": {
    "papermill": {
     "duration": 0.029061,
     "end_time": "2023-12-16T14:48:14.322405",
     "exception": false,
     "start_time": "2023-12-16T14:48:14.293344",
     "status": "completed"
    },
    "tags": []
   },
   "source": [
    "## LinearRegression"
   ]
  },
  {
   "cell_type": "code",
   "execution_count": 28,
   "id": "fc041f51",
   "metadata": {
    "execution": {
     "iopub.execute_input": "2023-12-16T14:48:14.382455Z",
     "iopub.status.busy": "2023-12-16T14:48:14.381595Z",
     "iopub.status.idle": "2023-12-16T14:48:14.417292Z",
     "shell.execute_reply": "2023-12-16T14:48:14.415553Z"
    },
    "papermill": {
     "duration": 0.069937,
     "end_time": "2023-12-16T14:48:14.420868",
     "exception": false,
     "start_time": "2023-12-16T14:48:14.350931",
     "status": "completed"
    },
    "tags": []
   },
   "outputs": [
    {
     "data": {
      "text/html": [
       "<style>#sk-container-id-2 {color: black;background-color: white;}#sk-container-id-2 pre{padding: 0;}#sk-container-id-2 div.sk-toggleable {background-color: white;}#sk-container-id-2 label.sk-toggleable__label {cursor: pointer;display: block;width: 100%;margin-bottom: 0;padding: 0.3em;box-sizing: border-box;text-align: center;}#sk-container-id-2 label.sk-toggleable__label-arrow:before {content: \"▸\";float: left;margin-right: 0.25em;color: #696969;}#sk-container-id-2 label.sk-toggleable__label-arrow:hover:before {color: black;}#sk-container-id-2 div.sk-estimator:hover label.sk-toggleable__label-arrow:before {color: black;}#sk-container-id-2 div.sk-toggleable__content {max-height: 0;max-width: 0;overflow: hidden;text-align: left;background-color: #f0f8ff;}#sk-container-id-2 div.sk-toggleable__content pre {margin: 0.2em;color: black;border-radius: 0.25em;background-color: #f0f8ff;}#sk-container-id-2 input.sk-toggleable__control:checked~div.sk-toggleable__content {max-height: 200px;max-width: 100%;overflow: auto;}#sk-container-id-2 input.sk-toggleable__control:checked~label.sk-toggleable__label-arrow:before {content: \"▾\";}#sk-container-id-2 div.sk-estimator input.sk-toggleable__control:checked~label.sk-toggleable__label {background-color: #d4ebff;}#sk-container-id-2 div.sk-label input.sk-toggleable__control:checked~label.sk-toggleable__label {background-color: #d4ebff;}#sk-container-id-2 input.sk-hidden--visually {border: 0;clip: rect(1px 1px 1px 1px);clip: rect(1px, 1px, 1px, 1px);height: 1px;margin: -1px;overflow: hidden;padding: 0;position: absolute;width: 1px;}#sk-container-id-2 div.sk-estimator {font-family: monospace;background-color: #f0f8ff;border: 1px dotted black;border-radius: 0.25em;box-sizing: border-box;margin-bottom: 0.5em;}#sk-container-id-2 div.sk-estimator:hover {background-color: #d4ebff;}#sk-container-id-2 div.sk-parallel-item::after {content: \"\";width: 100%;border-bottom: 1px solid gray;flex-grow: 1;}#sk-container-id-2 div.sk-label:hover label.sk-toggleable__label {background-color: #d4ebff;}#sk-container-id-2 div.sk-serial::before {content: \"\";position: absolute;border-left: 1px solid gray;box-sizing: border-box;top: 0;bottom: 0;left: 50%;z-index: 0;}#sk-container-id-2 div.sk-serial {display: flex;flex-direction: column;align-items: center;background-color: white;padding-right: 0.2em;padding-left: 0.2em;position: relative;}#sk-container-id-2 div.sk-item {position: relative;z-index: 1;}#sk-container-id-2 div.sk-parallel {display: flex;align-items: stretch;justify-content: center;background-color: white;position: relative;}#sk-container-id-2 div.sk-item::before, #sk-container-id-2 div.sk-parallel-item::before {content: \"\";position: absolute;border-left: 1px solid gray;box-sizing: border-box;top: 0;bottom: 0;left: 50%;z-index: -1;}#sk-container-id-2 div.sk-parallel-item {display: flex;flex-direction: column;z-index: 1;position: relative;background-color: white;}#sk-container-id-2 div.sk-parallel-item:first-child::after {align-self: flex-end;width: 50%;}#sk-container-id-2 div.sk-parallel-item:last-child::after {align-self: flex-start;width: 50%;}#sk-container-id-2 div.sk-parallel-item:only-child::after {width: 0;}#sk-container-id-2 div.sk-dashed-wrapped {border: 1px dashed gray;margin: 0 0.4em 0.5em 0.4em;box-sizing: border-box;padding-bottom: 0.4em;background-color: white;}#sk-container-id-2 div.sk-label label {font-family: monospace;font-weight: bold;display: inline-block;line-height: 1.2em;}#sk-container-id-2 div.sk-label-container {text-align: center;}#sk-container-id-2 div.sk-container {/* jupyter's `normalize.less` sets `[hidden] { display: none; }` but bootstrap.min.css set `[hidden] { display: none !important; }` so we also need the `!important` here to be able to override the default hidden behavior on the sphinx rendered scikit-learn.org. See: https://github.com/scikit-learn/scikit-learn/issues/21755 */display: inline-block !important;position: relative;}#sk-container-id-2 div.sk-text-repr-fallback {display: none;}</style><div id=\"sk-container-id-2\" class=\"sk-top-container\"><div class=\"sk-text-repr-fallback\"><pre>LinearRegression()</pre><b>In a Jupyter environment, please rerun this cell to show the HTML representation or trust the notebook. <br />On GitHub, the HTML representation is unable to render, please try loading this page with nbviewer.org.</b></div><div class=\"sk-container\" hidden><div class=\"sk-item\"><div class=\"sk-estimator sk-toggleable\"><input class=\"sk-toggleable__control sk-hidden--visually\" id=\"sk-estimator-id-2\" type=\"checkbox\" checked><label for=\"sk-estimator-id-2\" class=\"sk-toggleable__label sk-toggleable__label-arrow\">LinearRegression</label><div class=\"sk-toggleable__content\"><pre>LinearRegression()</pre></div></div></div></div></div>"
      ],
      "text/plain": [
       "LinearRegression()"
      ]
     },
     "execution_count": 28,
     "metadata": {},
     "output_type": "execute_result"
    }
   ],
   "source": [
    "lg_model = LinearRegression()\n",
    "lg_model.fit(x_train_scaled,y_train)"
   ]
  },
  {
   "cell_type": "code",
   "execution_count": 29,
   "id": "5b133d1e",
   "metadata": {
    "execution": {
     "iopub.execute_input": "2023-12-16T14:48:14.480561Z",
     "iopub.status.busy": "2023-12-16T14:48:14.480049Z",
     "iopub.status.idle": "2023-12-16T14:48:14.491585Z",
     "shell.execute_reply": "2023-12-16T14:48:14.490311Z"
    },
    "papermill": {
     "duration": 0.044125,
     "end_time": "2023-12-16T14:48:14.494555",
     "exception": false,
     "start_time": "2023-12-16T14:48:14.450430",
     "status": "completed"
    },
    "tags": []
   },
   "outputs": [
    {
     "data": {
      "text/plain": [
       "array([28947.85309374, 15507.5819894 ,  6228.09613885, 14711.2192342 ,\n",
       "       11408.63004793])"
      ]
     },
     "execution_count": 29,
     "metadata": {},
     "output_type": "execute_result"
    }
   ],
   "source": [
    "y_pred = lg_model.predict(x_test_scaled)\n",
    "y_pred[:5]"
   ]
  },
  {
   "cell_type": "code",
   "execution_count": 30,
   "id": "8e4581d9",
   "metadata": {
    "execution": {
     "iopub.execute_input": "2023-12-16T14:48:14.553612Z",
     "iopub.status.busy": "2023-12-16T14:48:14.553160Z",
     "iopub.status.idle": "2023-12-16T14:48:14.560806Z",
     "shell.execute_reply": "2023-12-16T14:48:14.559322Z"
    },
    "papermill": {
     "duration": 0.041827,
     "end_time": "2023-12-16T14:48:14.563741",
     "exception": false,
     "start_time": "2023-12-16T14:48:14.521914",
     "status": "completed"
    },
    "tags": []
   },
   "outputs": [
    {
     "name": "stdout",
     "output_type": "stream",
     "text": [
      "Accuracy on Test Data: 77.02\n"
     ]
    }
   ],
   "source": [
    "print(f\"Accuracy on Test Data: {r2_score(y_test,y_pred)*100:.2f}\")"
   ]
  },
  {
   "cell_type": "markdown",
   "id": "85e27bdd",
   "metadata": {
    "papermill": {
     "duration": 0.028596,
     "end_time": "2023-12-16T14:48:14.622082",
     "exception": false,
     "start_time": "2023-12-16T14:48:14.593486",
     "status": "completed"
    },
    "tags": []
   },
   "source": [
    "## Random Forest Tree"
   ]
  },
  {
   "cell_type": "code",
   "execution_count": 31,
   "id": "ea8e9747",
   "metadata": {
    "execution": {
     "iopub.execute_input": "2023-12-16T14:48:14.687063Z",
     "iopub.status.busy": "2023-12-16T14:48:14.686265Z",
     "iopub.status.idle": "2023-12-16T14:48:15.143293Z",
     "shell.execute_reply": "2023-12-16T14:48:15.141645Z"
    },
    "papermill": {
     "duration": 0.492905,
     "end_time": "2023-12-16T14:48:15.146644",
     "exception": false,
     "start_time": "2023-12-16T14:48:14.653739",
     "status": "completed"
    },
    "tags": []
   },
   "outputs": [],
   "source": [
    "from sklearn.tree import DecisionTreeRegressor\n",
    "from sklearn.ensemble import RandomForestRegressor,AdaBoostRegressor\n",
    "from xgboost import XGBRegressor"
   ]
  },
  {
   "cell_type": "code",
   "execution_count": 32,
   "id": "69a6a07f",
   "metadata": {
    "execution": {
     "iopub.execute_input": "2023-12-16T14:48:15.209510Z",
     "iopub.status.busy": "2023-12-16T14:48:15.208981Z",
     "iopub.status.idle": "2023-12-16T14:48:15.862908Z",
     "shell.execute_reply": "2023-12-16T14:48:15.861439Z"
    },
    "papermill": {
     "duration": 0.689831,
     "end_time": "2023-12-16T14:48:15.865962",
     "exception": false,
     "start_time": "2023-12-16T14:48:15.176131",
     "status": "completed"
    },
    "tags": []
   },
   "outputs": [
    {
     "data": {
      "text/html": [
       "<style>#sk-container-id-3 {color: black;background-color: white;}#sk-container-id-3 pre{padding: 0;}#sk-container-id-3 div.sk-toggleable {background-color: white;}#sk-container-id-3 label.sk-toggleable__label {cursor: pointer;display: block;width: 100%;margin-bottom: 0;padding: 0.3em;box-sizing: border-box;text-align: center;}#sk-container-id-3 label.sk-toggleable__label-arrow:before {content: \"▸\";float: left;margin-right: 0.25em;color: #696969;}#sk-container-id-3 label.sk-toggleable__label-arrow:hover:before {color: black;}#sk-container-id-3 div.sk-estimator:hover label.sk-toggleable__label-arrow:before {color: black;}#sk-container-id-3 div.sk-toggleable__content {max-height: 0;max-width: 0;overflow: hidden;text-align: left;background-color: #f0f8ff;}#sk-container-id-3 div.sk-toggleable__content pre {margin: 0.2em;color: black;border-radius: 0.25em;background-color: #f0f8ff;}#sk-container-id-3 input.sk-toggleable__control:checked~div.sk-toggleable__content {max-height: 200px;max-width: 100%;overflow: auto;}#sk-container-id-3 input.sk-toggleable__control:checked~label.sk-toggleable__label-arrow:before {content: \"▾\";}#sk-container-id-3 div.sk-estimator input.sk-toggleable__control:checked~label.sk-toggleable__label {background-color: #d4ebff;}#sk-container-id-3 div.sk-label input.sk-toggleable__control:checked~label.sk-toggleable__label {background-color: #d4ebff;}#sk-container-id-3 input.sk-hidden--visually {border: 0;clip: rect(1px 1px 1px 1px);clip: rect(1px, 1px, 1px, 1px);height: 1px;margin: -1px;overflow: hidden;padding: 0;position: absolute;width: 1px;}#sk-container-id-3 div.sk-estimator {font-family: monospace;background-color: #f0f8ff;border: 1px dotted black;border-radius: 0.25em;box-sizing: border-box;margin-bottom: 0.5em;}#sk-container-id-3 div.sk-estimator:hover {background-color: #d4ebff;}#sk-container-id-3 div.sk-parallel-item::after {content: \"\";width: 100%;border-bottom: 1px solid gray;flex-grow: 1;}#sk-container-id-3 div.sk-label:hover label.sk-toggleable__label {background-color: #d4ebff;}#sk-container-id-3 div.sk-serial::before {content: \"\";position: absolute;border-left: 1px solid gray;box-sizing: border-box;top: 0;bottom: 0;left: 50%;z-index: 0;}#sk-container-id-3 div.sk-serial {display: flex;flex-direction: column;align-items: center;background-color: white;padding-right: 0.2em;padding-left: 0.2em;position: relative;}#sk-container-id-3 div.sk-item {position: relative;z-index: 1;}#sk-container-id-3 div.sk-parallel {display: flex;align-items: stretch;justify-content: center;background-color: white;position: relative;}#sk-container-id-3 div.sk-item::before, #sk-container-id-3 div.sk-parallel-item::before {content: \"\";position: absolute;border-left: 1px solid gray;box-sizing: border-box;top: 0;bottom: 0;left: 50%;z-index: -1;}#sk-container-id-3 div.sk-parallel-item {display: flex;flex-direction: column;z-index: 1;position: relative;background-color: white;}#sk-container-id-3 div.sk-parallel-item:first-child::after {align-self: flex-end;width: 50%;}#sk-container-id-3 div.sk-parallel-item:last-child::after {align-self: flex-start;width: 50%;}#sk-container-id-3 div.sk-parallel-item:only-child::after {width: 0;}#sk-container-id-3 div.sk-dashed-wrapped {border: 1px dashed gray;margin: 0 0.4em 0.5em 0.4em;box-sizing: border-box;padding-bottom: 0.4em;background-color: white;}#sk-container-id-3 div.sk-label label {font-family: monospace;font-weight: bold;display: inline-block;line-height: 1.2em;}#sk-container-id-3 div.sk-label-container {text-align: center;}#sk-container-id-3 div.sk-container {/* jupyter's `normalize.less` sets `[hidden] { display: none; }` but bootstrap.min.css set `[hidden] { display: none !important; }` so we also need the `!important` here to be able to override the default hidden behavior on the sphinx rendered scikit-learn.org. See: https://github.com/scikit-learn/scikit-learn/issues/21755 */display: inline-block !important;position: relative;}#sk-container-id-3 div.sk-text-repr-fallback {display: none;}</style><div id=\"sk-container-id-3\" class=\"sk-top-container\"><div class=\"sk-text-repr-fallback\"><pre>RandomForestRegressor()</pre><b>In a Jupyter environment, please rerun this cell to show the HTML representation or trust the notebook. <br />On GitHub, the HTML representation is unable to render, please try loading this page with nbviewer.org.</b></div><div class=\"sk-container\" hidden><div class=\"sk-item\"><div class=\"sk-estimator sk-toggleable\"><input class=\"sk-toggleable__control sk-hidden--visually\" id=\"sk-estimator-id-3\" type=\"checkbox\" checked><label for=\"sk-estimator-id-3\" class=\"sk-toggleable__label sk-toggleable__label-arrow\">RandomForestRegressor</label><div class=\"sk-toggleable__content\"><pre>RandomForestRegressor()</pre></div></div></div></div></div>"
      ],
      "text/plain": [
       "RandomForestRegressor()"
      ]
     },
     "execution_count": 32,
     "metadata": {},
     "output_type": "execute_result"
    }
   ],
   "source": [
    "rf_model = RandomForestRegressor()\n",
    "rf_model.fit(x_train,y_train)"
   ]
  },
  {
   "cell_type": "code",
   "execution_count": 33,
   "id": "cdc99746",
   "metadata": {
    "execution": {
     "iopub.execute_input": "2023-12-16T14:48:15.926289Z",
     "iopub.status.busy": "2023-12-16T14:48:15.925846Z",
     "iopub.status.idle": "2023-12-16T14:48:15.949608Z",
     "shell.execute_reply": "2023-12-16T14:48:15.947515Z"
    },
    "papermill": {
     "duration": 0.058372,
     "end_time": "2023-12-16T14:48:15.953265",
     "exception": false,
     "start_time": "2023-12-16T14:48:15.894893",
     "status": "completed"
    },
    "tags": []
   },
   "outputs": [
    {
     "name": "stdout",
     "output_type": "stream",
     "text": [
      "Accuracy on Test Data: 97.61\n"
     ]
    }
   ],
   "source": [
    "y_pred = rf_model.predict(x_test)\n",
    "\n",
    "print(f\"Accuracy on Test Data: {r2_score(y_test,y_pred)*100:.2f}\")"
   ]
  },
  {
   "cell_type": "markdown",
   "id": "b7570508",
   "metadata": {
    "papermill": {
     "duration": 0.034329,
     "end_time": "2023-12-16T14:48:16.019764",
     "exception": false,
     "start_time": "2023-12-16T14:48:15.985435",
     "status": "completed"
    },
    "tags": []
   },
   "source": [
    "## XGBoost Model"
   ]
  },
  {
   "cell_type": "code",
   "execution_count": 34,
   "id": "5c36f997",
   "metadata": {
    "execution": {
     "iopub.execute_input": "2023-12-16T14:48:16.080825Z",
     "iopub.status.busy": "2023-12-16T14:48:16.080425Z",
     "iopub.status.idle": "2023-12-16T14:48:16.293663Z",
     "shell.execute_reply": "2023-12-16T14:48:16.292687Z"
    },
    "papermill": {
     "duration": 0.246356,
     "end_time": "2023-12-16T14:48:16.296406",
     "exception": false,
     "start_time": "2023-12-16T14:48:16.050050",
     "status": "completed"
    },
    "tags": []
   },
   "outputs": [
    {
     "data": {
      "text/html": [
       "<style>#sk-container-id-4 {color: black;background-color: white;}#sk-container-id-4 pre{padding: 0;}#sk-container-id-4 div.sk-toggleable {background-color: white;}#sk-container-id-4 label.sk-toggleable__label {cursor: pointer;display: block;width: 100%;margin-bottom: 0;padding: 0.3em;box-sizing: border-box;text-align: center;}#sk-container-id-4 label.sk-toggleable__label-arrow:before {content: \"▸\";float: left;margin-right: 0.25em;color: #696969;}#sk-container-id-4 label.sk-toggleable__label-arrow:hover:before {color: black;}#sk-container-id-4 div.sk-estimator:hover label.sk-toggleable__label-arrow:before {color: black;}#sk-container-id-4 div.sk-toggleable__content {max-height: 0;max-width: 0;overflow: hidden;text-align: left;background-color: #f0f8ff;}#sk-container-id-4 div.sk-toggleable__content pre {margin: 0.2em;color: black;border-radius: 0.25em;background-color: #f0f8ff;}#sk-container-id-4 input.sk-toggleable__control:checked~div.sk-toggleable__content {max-height: 200px;max-width: 100%;overflow: auto;}#sk-container-id-4 input.sk-toggleable__control:checked~label.sk-toggleable__label-arrow:before {content: \"▾\";}#sk-container-id-4 div.sk-estimator input.sk-toggleable__control:checked~label.sk-toggleable__label {background-color: #d4ebff;}#sk-container-id-4 div.sk-label input.sk-toggleable__control:checked~label.sk-toggleable__label {background-color: #d4ebff;}#sk-container-id-4 input.sk-hidden--visually {border: 0;clip: rect(1px 1px 1px 1px);clip: rect(1px, 1px, 1px, 1px);height: 1px;margin: -1px;overflow: hidden;padding: 0;position: absolute;width: 1px;}#sk-container-id-4 div.sk-estimator {font-family: monospace;background-color: #f0f8ff;border: 1px dotted black;border-radius: 0.25em;box-sizing: border-box;margin-bottom: 0.5em;}#sk-container-id-4 div.sk-estimator:hover {background-color: #d4ebff;}#sk-container-id-4 div.sk-parallel-item::after {content: \"\";width: 100%;border-bottom: 1px solid gray;flex-grow: 1;}#sk-container-id-4 div.sk-label:hover label.sk-toggleable__label {background-color: #d4ebff;}#sk-container-id-4 div.sk-serial::before {content: \"\";position: absolute;border-left: 1px solid gray;box-sizing: border-box;top: 0;bottom: 0;left: 50%;z-index: 0;}#sk-container-id-4 div.sk-serial {display: flex;flex-direction: column;align-items: center;background-color: white;padding-right: 0.2em;padding-left: 0.2em;position: relative;}#sk-container-id-4 div.sk-item {position: relative;z-index: 1;}#sk-container-id-4 div.sk-parallel {display: flex;align-items: stretch;justify-content: center;background-color: white;position: relative;}#sk-container-id-4 div.sk-item::before, #sk-container-id-4 div.sk-parallel-item::before {content: \"\";position: absolute;border-left: 1px solid gray;box-sizing: border-box;top: 0;bottom: 0;left: 50%;z-index: -1;}#sk-container-id-4 div.sk-parallel-item {display: flex;flex-direction: column;z-index: 1;position: relative;background-color: white;}#sk-container-id-4 div.sk-parallel-item:first-child::after {align-self: flex-end;width: 50%;}#sk-container-id-4 div.sk-parallel-item:last-child::after {align-self: flex-start;width: 50%;}#sk-container-id-4 div.sk-parallel-item:only-child::after {width: 0;}#sk-container-id-4 div.sk-dashed-wrapped {border: 1px dashed gray;margin: 0 0.4em 0.5em 0.4em;box-sizing: border-box;padding-bottom: 0.4em;background-color: white;}#sk-container-id-4 div.sk-label label {font-family: monospace;font-weight: bold;display: inline-block;line-height: 1.2em;}#sk-container-id-4 div.sk-label-container {text-align: center;}#sk-container-id-4 div.sk-container {/* jupyter's `normalize.less` sets `[hidden] { display: none; }` but bootstrap.min.css set `[hidden] { display: none !important; }` so we also need the `!important` here to be able to override the default hidden behavior on the sphinx rendered scikit-learn.org. See: https://github.com/scikit-learn/scikit-learn/issues/21755 */display: inline-block !important;position: relative;}#sk-container-id-4 div.sk-text-repr-fallback {display: none;}</style><div id=\"sk-container-id-4\" class=\"sk-top-container\"><div class=\"sk-text-repr-fallback\"><pre>XGBRegressor(base_score=None, booster=None, callbacks=None,\n",
       "             colsample_bylevel=None, colsample_bynode=None,\n",
       "             colsample_bytree=None, device=None, early_stopping_rounds=None,\n",
       "             enable_categorical=False, eval_metric=None, feature_types=None,\n",
       "             gamma=None, grow_policy=None, importance_type=None,\n",
       "             interaction_constraints=None, learning_rate=None, max_bin=None,\n",
       "             max_cat_threshold=None, max_cat_to_onehot=None,\n",
       "             max_delta_step=None, max_depth=None, max_leaves=None,\n",
       "             min_child_weight=None, missing=nan, monotone_constraints=None,\n",
       "             multi_strategy=None, n_estimators=None, n_jobs=None,\n",
       "             num_parallel_tree=None, random_state=None, ...)</pre><b>In a Jupyter environment, please rerun this cell to show the HTML representation or trust the notebook. <br />On GitHub, the HTML representation is unable to render, please try loading this page with nbviewer.org.</b></div><div class=\"sk-container\" hidden><div class=\"sk-item\"><div class=\"sk-estimator sk-toggleable\"><input class=\"sk-toggleable__control sk-hidden--visually\" id=\"sk-estimator-id-4\" type=\"checkbox\" checked><label for=\"sk-estimator-id-4\" class=\"sk-toggleable__label sk-toggleable__label-arrow\">XGBRegressor</label><div class=\"sk-toggleable__content\"><pre>XGBRegressor(base_score=None, booster=None, callbacks=None,\n",
       "             colsample_bylevel=None, colsample_bynode=None,\n",
       "             colsample_bytree=None, device=None, early_stopping_rounds=None,\n",
       "             enable_categorical=False, eval_metric=None, feature_types=None,\n",
       "             gamma=None, grow_policy=None, importance_type=None,\n",
       "             interaction_constraints=None, learning_rate=None, max_bin=None,\n",
       "             max_cat_threshold=None, max_cat_to_onehot=None,\n",
       "             max_delta_step=None, max_depth=None, max_leaves=None,\n",
       "             min_child_weight=None, missing=nan, monotone_constraints=None,\n",
       "             multi_strategy=None, n_estimators=None, n_jobs=None,\n",
       "             num_parallel_tree=None, random_state=None, ...)</pre></div></div></div></div></div>"
      ],
      "text/plain": [
       "XGBRegressor(base_score=None, booster=None, callbacks=None,\n",
       "             colsample_bylevel=None, colsample_bynode=None,\n",
       "             colsample_bytree=None, device=None, early_stopping_rounds=None,\n",
       "             enable_categorical=False, eval_metric=None, feature_types=None,\n",
       "             gamma=None, grow_policy=None, importance_type=None,\n",
       "             interaction_constraints=None, learning_rate=None, max_bin=None,\n",
       "             max_cat_threshold=None, max_cat_to_onehot=None,\n",
       "             max_delta_step=None, max_depth=None, max_leaves=None,\n",
       "             min_child_weight=None, missing=nan, monotone_constraints=None,\n",
       "             multi_strategy=None, n_estimators=None, n_jobs=None,\n",
       "             num_parallel_tree=None, random_state=None, ...)"
      ]
     },
     "execution_count": 34,
     "metadata": {},
     "output_type": "execute_result"
    }
   ],
   "source": [
    "xg_model = XGBRegressor()\n",
    "xg_model.fit(x_train,y_train)"
   ]
  },
  {
   "cell_type": "code",
   "execution_count": 35,
   "id": "28a74b32",
   "metadata": {
    "execution": {
     "iopub.execute_input": "2023-12-16T14:48:16.354076Z",
     "iopub.status.busy": "2023-12-16T14:48:16.353557Z",
     "iopub.status.idle": "2023-12-16T14:48:16.370952Z",
     "shell.execute_reply": "2023-12-16T14:48:16.370006Z"
    },
    "papermill": {
     "duration": 0.050082,
     "end_time": "2023-12-16T14:48:16.373710",
     "exception": false,
     "start_time": "2023-12-16T14:48:16.323628",
     "status": "completed"
    },
    "tags": []
   },
   "outputs": [
    {
     "name": "stdout",
     "output_type": "stream",
     "text": [
      "Accuracy on Test Data: 98.78\n"
     ]
    }
   ],
   "source": [
    "y_pred = xg_model.predict(x_test)\n",
    "print(f\"Accuracy on Test Data: {r2_score(y_test,y_pred)*100:.2f}\")"
   ]
  },
  {
   "cell_type": "code",
   "execution_count": 36,
   "id": "3be80715",
   "metadata": {
    "execution": {
     "iopub.execute_input": "2023-12-16T14:48:16.432020Z",
     "iopub.status.busy": "2023-12-16T14:48:16.431591Z",
     "iopub.status.idle": "2023-12-16T14:48:16.440290Z",
     "shell.execute_reply": "2023-12-16T14:48:16.438942Z"
    },
    "papermill": {
     "duration": 0.040826,
     "end_time": "2023-12-16T14:48:16.443006",
     "exception": false,
     "start_time": "2023-12-16T14:48:16.402180",
     "status": "completed"
    },
    "tags": []
   },
   "outputs": [
    {
     "data": {
      "text/plain": [
       "array([36219.40545, 13887.9685 , 18804.7524 , 13393.756  ,  8765.249  ,\n",
       "       47928.03   , 40932.4295 ,  9264.797  ,  9144.565  ,  4296.2712 ])"
      ]
     },
     "execution_count": 36,
     "metadata": {},
     "output_type": "execute_result"
    }
   ],
   "source": [
    "y_test.values[:10]"
   ]
  },
  {
   "cell_type": "code",
   "execution_count": 37,
   "id": "aa4a2286",
   "metadata": {
    "execution": {
     "iopub.execute_input": "2023-12-16T14:48:16.504042Z",
     "iopub.status.busy": "2023-12-16T14:48:16.503627Z",
     "iopub.status.idle": "2023-12-16T14:48:16.513091Z",
     "shell.execute_reply": "2023-12-16T14:48:16.511523Z"
    },
    "papermill": {
     "duration": 0.042492,
     "end_time": "2023-12-16T14:48:16.515705",
     "exception": false,
     "start_time": "2023-12-16T14:48:16.473213",
     "status": "completed"
    },
    "tags": []
   },
   "outputs": [
    {
     "data": {
      "text/plain": [
       "array([36683.19  , 13856.509 , 14582.951 , 13752.614 ,  9260.573 ,\n",
       "       47765.48  , 42346.53  ,  9174.149 , 10394.078 ,  4303.4243],\n",
       "      dtype=float32)"
      ]
     },
     "execution_count": 37,
     "metadata": {},
     "output_type": "execute_result"
    }
   ],
   "source": [
    "y_pred[:10]"
   ]
  },
  {
   "cell_type": "code",
   "execution_count": null,
   "id": "ead41e54",
   "metadata": {
    "papermill": {
     "duration": 0.028271,
     "end_time": "2023-12-16T14:48:16.573850",
     "exception": false,
     "start_time": "2023-12-16T14:48:16.545579",
     "status": "completed"
    },
    "tags": []
   },
   "outputs": [],
   "source": [
    " "
   ]
  },
  {
   "cell_type": "code",
   "execution_count": 38,
   "id": "e71e3d9e",
   "metadata": {
    "execution": {
     "iopub.execute_input": "2023-12-16T14:48:16.635406Z",
     "iopub.status.busy": "2023-12-16T14:48:16.634928Z",
     "iopub.status.idle": "2023-12-16T14:48:16.647759Z",
     "shell.execute_reply": "2023-12-16T14:48:16.646304Z"
    },
    "papermill": {
     "duration": 0.047152,
     "end_time": "2023-12-16T14:48:16.650348",
     "exception": false,
     "start_time": "2023-12-16T14:48:16.603196",
     "status": "completed"
    },
    "tags": []
   },
   "outputs": [
    {
     "data": {
      "text/html": [
       "<div>\n",
       "<style scoped>\n",
       "    .dataframe tbody tr th:only-of-type {\n",
       "        vertical-align: middle;\n",
       "    }\n",
       "\n",
       "    .dataframe tbody tr th {\n",
       "        vertical-align: top;\n",
       "    }\n",
       "\n",
       "    .dataframe thead th {\n",
       "        text-align: right;\n",
       "    }\n",
       "</style>\n",
       "<table border=\"1\" class=\"dataframe\">\n",
       "  <thead>\n",
       "    <tr style=\"text-align: right;\">\n",
       "      <th></th>\n",
       "      <th>age</th>\n",
       "      <th>sex</th>\n",
       "      <th>bmi</th>\n",
       "      <th>children</th>\n",
       "      <th>smoker</th>\n",
       "      <th>region</th>\n",
       "    </tr>\n",
       "  </thead>\n",
       "  <tbody>\n",
       "    <tr>\n",
       "      <th>0</th>\n",
       "      <td>19</td>\n",
       "      <td>0</td>\n",
       "      <td>27.900</td>\n",
       "      <td>0</td>\n",
       "      <td>1</td>\n",
       "      <td>1</td>\n",
       "    </tr>\n",
       "    <tr>\n",
       "      <th>1</th>\n",
       "      <td>18</td>\n",
       "      <td>1</td>\n",
       "      <td>33.770</td>\n",
       "      <td>1</td>\n",
       "      <td>0</td>\n",
       "      <td>0</td>\n",
       "    </tr>\n",
       "    <tr>\n",
       "      <th>2</th>\n",
       "      <td>28</td>\n",
       "      <td>1</td>\n",
       "      <td>33.000</td>\n",
       "      <td>3</td>\n",
       "      <td>0</td>\n",
       "      <td>0</td>\n",
       "    </tr>\n",
       "    <tr>\n",
       "      <th>3</th>\n",
       "      <td>33</td>\n",
       "      <td>1</td>\n",
       "      <td>22.705</td>\n",
       "      <td>0</td>\n",
       "      <td>0</td>\n",
       "      <td>2</td>\n",
       "    </tr>\n",
       "    <tr>\n",
       "      <th>4</th>\n",
       "      <td>32</td>\n",
       "      <td>1</td>\n",
       "      <td>28.880</td>\n",
       "      <td>0</td>\n",
       "      <td>0</td>\n",
       "      <td>2</td>\n",
       "    </tr>\n",
       "  </tbody>\n",
       "</table>\n",
       "</div>"
      ],
      "text/plain": [
       "   age  sex     bmi  children  smoker  region\n",
       "0   19    0  27.900         0       1       1\n",
       "1   18    1  33.770         1       0       0\n",
       "2   28    1  33.000         3       0       0\n",
       "3   33    1  22.705         0       0       2\n",
       "4   32    1  28.880         0       0       2"
      ]
     },
     "execution_count": 38,
     "metadata": {},
     "output_type": "execute_result"
    }
   ],
   "source": [
    "x.head()"
   ]
  },
  {
   "cell_type": "code",
   "execution_count": 39,
   "id": "ffe823f2",
   "metadata": {
    "execution": {
     "iopub.execute_input": "2023-12-16T14:48:16.714124Z",
     "iopub.status.busy": "2023-12-16T14:48:16.713120Z",
     "iopub.status.idle": "2023-12-16T14:48:16.736810Z",
     "shell.execute_reply": "2023-12-16T14:48:16.735181Z"
    },
    "papermill": {
     "duration": 0.059195,
     "end_time": "2023-12-16T14:48:16.739669",
     "exception": false,
     "start_time": "2023-12-16T14:48:16.680474",
     "status": "completed"
    },
    "tags": []
   },
   "outputs": [
    {
     "data": {
      "text/plain": [
       "array([36479.8554514, 13859.376391 , 12985.1838428, 13505.138918 ,\n",
       "        9807.8645991, 48003.8117893, 41650.317462 ,  9175.5444055,\n",
       "        9675.5500629,  4600.1652795])"
      ]
     },
     "execution_count": 39,
     "metadata": {},
     "output_type": "execute_result"
    }
   ],
   "source": [
    "y_pred = rf_model.predict(x_test)\n",
    "y_pred[:10]"
   ]
  },
  {
   "cell_type": "code",
   "execution_count": 40,
   "id": "6ba0d95b",
   "metadata": {
    "execution": {
     "iopub.execute_input": "2023-12-16T14:48:16.800331Z",
     "iopub.status.busy": "2023-12-16T14:48:16.799196Z",
     "iopub.status.idle": "2023-12-16T14:48:16.808121Z",
     "shell.execute_reply": "2023-12-16T14:48:16.806668Z"
    },
    "papermill": {
     "duration": 0.042025,
     "end_time": "2023-12-16T14:48:16.810946",
     "exception": false,
     "start_time": "2023-12-16T14:48:16.768921",
     "status": "completed"
    },
    "tags": []
   },
   "outputs": [
    {
     "data": {
      "text/plain": [
       "array([36219.40545, 13887.9685 , 18804.7524 , 13393.756  ,  8765.249  ,\n",
       "       47928.03   , 40932.4295 ,  9264.797  ,  9144.565  ,  4296.2712 ])"
      ]
     },
     "execution_count": 40,
     "metadata": {},
     "output_type": "execute_result"
    }
   ],
   "source": [
    "y_test.values[:10]"
   ]
  },
  {
   "cell_type": "code",
   "execution_count": null,
   "id": "585af7cb",
   "metadata": {
    "papermill": {
     "duration": 0.029501,
     "end_time": "2023-12-16T14:48:16.868904",
     "exception": false,
     "start_time": "2023-12-16T14:48:16.839403",
     "status": "completed"
    },
    "tags": []
   },
   "outputs": [],
   "source": []
  },
  {
   "cell_type": "code",
   "execution_count": 41,
   "id": "4f7050a1",
   "metadata": {
    "execution": {
     "iopub.execute_input": "2023-12-16T14:48:16.929831Z",
     "iopub.status.busy": "2023-12-16T14:48:16.929373Z",
     "iopub.status.idle": "2023-12-16T14:48:16.934789Z",
     "shell.execute_reply": "2023-12-16T14:48:16.933224Z"
    },
    "papermill": {
     "duration": 0.039863,
     "end_time": "2023-12-16T14:48:16.937530",
     "exception": false,
     "start_time": "2023-12-16T14:48:16.897667",
     "status": "completed"
    },
    "tags": []
   },
   "outputs": [],
   "source": [
    "import pickle \n",
    "import json"
   ]
  },
  {
   "cell_type": "code",
   "execution_count": 42,
   "id": "73e50cfb",
   "metadata": {
    "execution": {
     "iopub.execute_input": "2023-12-16T14:48:16.998017Z",
     "iopub.status.busy": "2023-12-16T14:48:16.997524Z",
     "iopub.status.idle": "2023-12-16T14:48:17.010477Z",
     "shell.execute_reply": "2023-12-16T14:48:17.009464Z"
    },
    "papermill": {
     "duration": 0.046833,
     "end_time": "2023-12-16T14:48:17.013202",
     "exception": false,
     "start_time": "2023-12-16T14:48:16.966369",
     "status": "completed"
    },
    "tags": []
   },
   "outputs": [],
   "source": [
    "with open('model.pickle','wb') as file:\n",
    "    pickle.dump(xg_model,file)"
   ]
  },
  {
   "cell_type": "code",
   "execution_count": 43,
   "id": "286acbdc",
   "metadata": {
    "execution": {
     "iopub.execute_input": "2023-12-16T14:48:17.073603Z",
     "iopub.status.busy": "2023-12-16T14:48:17.073003Z",
     "iopub.status.idle": "2023-12-16T14:48:17.080483Z",
     "shell.execute_reply": "2023-12-16T14:48:17.079069Z"
    },
    "papermill": {
     "duration": 0.040291,
     "end_time": "2023-12-16T14:48:17.083005",
     "exception": false,
     "start_time": "2023-12-16T14:48:17.042714",
     "status": "completed"
    },
    "tags": []
   },
   "outputs": [],
   "source": [
    "json_data = {'sex':{'Female':0 ,'Male':1}, 'smoker':{'No':0, 'Yes':1},\n",
    "'region':{'Southeast':0, 'Southwest':1, 'Northwest':2, 'Northeast':3}\n",
    "}"
   ]
  },
  {
   "cell_type": "code",
   "execution_count": 44,
   "id": "c5368e60",
   "metadata": {
    "execution": {
     "iopub.execute_input": "2023-12-16T14:48:17.143118Z",
     "iopub.status.busy": "2023-12-16T14:48:17.141376Z",
     "iopub.status.idle": "2023-12-16T14:48:17.149913Z",
     "shell.execute_reply": "2023-12-16T14:48:17.148580Z"
    },
    "papermill": {
     "duration": 0.041502,
     "end_time": "2023-12-16T14:48:17.152303",
     "exception": false,
     "start_time": "2023-12-16T14:48:17.110801",
     "status": "completed"
    },
    "tags": []
   },
   "outputs": [
    {
     "data": {
      "text/plain": [
       "1"
      ]
     },
     "execution_count": 44,
     "metadata": {},
     "output_type": "execute_result"
    }
   ],
   "source": [
    "json_data['sex']['Male']"
   ]
  },
  {
   "cell_type": "code",
   "execution_count": 45,
   "id": "d1e4a114",
   "metadata": {
    "execution": {
     "iopub.execute_input": "2023-12-16T14:48:17.212002Z",
     "iopub.status.busy": "2023-12-16T14:48:17.210811Z",
     "iopub.status.idle": "2023-12-16T14:48:17.218029Z",
     "shell.execute_reply": "2023-12-16T14:48:17.216937Z"
    },
    "papermill": {
     "duration": 0.040058,
     "end_time": "2023-12-16T14:48:17.220512",
     "exception": false,
     "start_time": "2023-12-16T14:48:17.180454",
     "status": "completed"
    },
    "tags": []
   },
   "outputs": [
    {
     "data": {
      "text/plain": [
       "0"
      ]
     },
     "execution_count": 45,
     "metadata": {},
     "output_type": "execute_result"
    }
   ],
   "source": [
    "json_data['region']['Southeast']"
   ]
  },
  {
   "cell_type": "code",
   "execution_count": 46,
   "id": "b1de1a58",
   "metadata": {
    "execution": {
     "iopub.execute_input": "2023-12-16T14:48:17.281010Z",
     "iopub.status.busy": "2023-12-16T14:48:17.279608Z",
     "iopub.status.idle": "2023-12-16T14:48:17.289065Z",
     "shell.execute_reply": "2023-12-16T14:48:17.286820Z"
    },
    "papermill": {
     "duration": 0.042853,
     "end_time": "2023-12-16T14:48:17.291894",
     "exception": false,
     "start_time": "2023-12-16T14:48:17.249041",
     "status": "completed"
    },
    "tags": []
   },
   "outputs": [
    {
     "data": {
      "text/plain": [
       "3"
      ]
     },
     "execution_count": 46,
     "metadata": {},
     "output_type": "execute_result"
    }
   ],
   "source": [
    "len(json_data)"
   ]
  },
  {
   "cell_type": "code",
   "execution_count": 47,
   "id": "99341fd8",
   "metadata": {
    "execution": {
     "iopub.execute_input": "2023-12-16T14:48:17.354164Z",
     "iopub.status.busy": "2023-12-16T14:48:17.352247Z",
     "iopub.status.idle": "2023-12-16T14:48:17.359127Z",
     "shell.execute_reply": "2023-12-16T14:48:17.358090Z"
    },
    "papermill": {
     "duration": 0.040318,
     "end_time": "2023-12-16T14:48:17.361706",
     "exception": false,
     "start_time": "2023-12-16T14:48:17.321388",
     "status": "completed"
    },
    "tags": []
   },
   "outputs": [],
   "source": [
    "with open('json_data.json','w') as file:\n",
    "    json.dump(json_data, file)"
   ]
  },
  {
   "cell_type": "code",
   "execution_count": null,
   "id": "f956e252",
   "metadata": {
    "papermill": {
     "duration": 0.028038,
     "end_time": "2023-12-16T14:48:17.418702",
     "exception": false,
     "start_time": "2023-12-16T14:48:17.390664",
     "status": "completed"
    },
    "tags": []
   },
   "outputs": [],
   "source": []
  },
  {
   "cell_type": "code",
   "execution_count": null,
   "id": "030cd34e",
   "metadata": {
    "papermill": {
     "duration": 0.027911,
     "end_time": "2023-12-16T14:48:17.474968",
     "exception": false,
     "start_time": "2023-12-16T14:48:17.447057",
     "status": "completed"
    },
    "tags": []
   },
   "outputs": [],
   "source": []
  },
  {
   "cell_type": "code",
   "execution_count": null,
   "id": "0c461076",
   "metadata": {
    "papermill": {
     "duration": 0.027917,
     "end_time": "2023-12-16T14:48:17.531234",
     "exception": false,
     "start_time": "2023-12-16T14:48:17.503317",
     "status": "completed"
    },
    "tags": []
   },
   "outputs": [],
   "source": []
  }
 ],
 "metadata": {
  "kaggle": {
   "accelerator": "none",
   "dataSources": [
    {
     "datasetId": 3435279,
     "sourceId": 5995753,
     "sourceType": "datasetVersion"
    }
   ],
   "dockerImageVersionId": 30626,
   "isGpuEnabled": false,
   "isInternetEnabled": true,
   "language": "python",
   "sourceType": "notebook"
  },
  "kernelspec": {
   "display_name": "Python 3",
   "language": "python",
   "name": "python3"
  },
  "language_info": {
   "codemirror_mode": {
    "name": "ipython",
    "version": 3
   },
   "file_extension": ".py",
   "mimetype": "text/x-python",
   "name": "python",
   "nbconvert_exporter": "python",
   "pygments_lexer": "ipython3",
   "version": "3.10.12"
  },
  "papermill": {
   "default_parameters": {},
   "duration": 17.622988,
   "end_time": "2023-12-16T14:48:18.483689",
   "environment_variables": {},
   "exception": null,
   "input_path": "__notebook__.ipynb",
   "output_path": "__notebook__.ipynb",
   "parameters": {},
   "start_time": "2023-12-16T14:48:00.860701",
   "version": "2.4.0"
  }
 },
 "nbformat": 4,
 "nbformat_minor": 5
}
